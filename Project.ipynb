{
 "cells": [
  {
   "cell_type": "markdown",
   "id": "0f7460cd",
   "metadata": {
    "papermill": {
     "duration": 0.008339,
     "end_time": "2022-06-14T19:03:49.811548",
     "exception": false,
     "start_time": "2022-06-14T19:03:49.803209",
     "status": "completed"
    },
    "tags": []
   },
   "source": [
    "## Students Adaptability Level in Online Education\n",
    "\n",
    "\n",
    "#### Content\n",
    "\n",
    "- The target feature is Adaptivity level\n",
    "\n",
    "#### The feature sets are:\n",
    "\n",
    "- Gender\n",
    "- Age\n",
    "- Education Level\n",
    "- Institution Type\n",
    "- IT Student\n",
    "- Location in Town\n",
    "- Load-shedding\n",
    "- Financial Condition\n",
    "- Internet Type\n",
    "- Network Type\n",
    "- Class Duration\n",
    "- Self LMS\n",
    "- Device\n",
    "\n",
    "\n",
    "# Work plan \n",
    "\n",
    "- 1- Data Exploration & Analysis \n",
    "- 2- Building a Machine Learning Model /Classification  Predict\n",
    "- 3- Building  Model usign TensorFlow"
   ]
  },
  {
   "cell_type": "code",
   "execution_count": 1,
   "id": "30719fed",
   "metadata": {},
   "outputs": [
    {
     "name": "stdout",
     "output_type": "stream",
     "text": [
      "Requirement already satisfied: plotly in c:\\users\\moham\\anaconda3\\lib\\site-packages (5.9.0)\n",
      "Requirement already satisfied: tenacity>=6.2.0 in c:\\users\\moham\\anaconda3\\lib\\site-packages (from plotly) (8.0.1)\n",
      "Note: you may need to restart the kernel to use updated packages.\n"
     ]
    }
   ],
   "source": [
    "pip install plotly"
   ]
  },
  {
   "cell_type": "code",
   "execution_count": 2,
   "id": "1d2c0ce8",
   "metadata": {
    "execution": {
     "iopub.execute_input": "2022-06-14T19:03:49.827974Z",
     "iopub.status.busy": "2022-06-14T19:03:49.827325Z",
     "iopub.status.idle": "2022-06-14T19:03:51.904425Z",
     "shell.execute_reply": "2022-06-14T19:03:51.903366Z"
    },
    "papermill": {
     "duration": 2.088133,
     "end_time": "2022-06-14T19:03:51.906970",
     "exception": false,
     "start_time": "2022-06-14T19:03:49.818837",
     "status": "completed"
    },
    "tags": []
   },
   "outputs": [],
   "source": [
    "#Importing the basic librarires fot analysis\n",
    "\n",
    "import numpy as np\n",
    "import pandas as pd\n",
    "import seaborn as sns\n",
    "import matplotlib.pyplot as plt\n",
    "plt.style.use(\"ggplot\")  #using style ggplot\n",
    "\n",
    "%matplotlib inline\n",
    "import plotly.graph_objects as go\n",
    "import plotly.express as px"
   ]
  },
  {
   "cell_type": "code",
   "execution_count": 3,
   "id": "8e552b0c",
   "metadata": {
    "execution": {
     "iopub.execute_input": "2022-06-14T19:03:51.923144Z",
     "iopub.status.busy": "2022-06-14T19:03:51.922321Z",
     "iopub.status.idle": "2022-06-14T19:03:51.960486Z",
     "shell.execute_reply": "2022-06-14T19:03:51.959559Z"
    },
    "papermill": {
     "duration": 0.048269,
     "end_time": "2022-06-14T19:03:51.962445",
     "exception": false,
     "start_time": "2022-06-14T19:03:51.914176",
     "status": "completed"
    },
    "tags": []
   },
   "outputs": [
    {
     "data": {
      "text/html": [
       "<div>\n",
       "<style scoped>\n",
       "    .dataframe tbody tr th:only-of-type {\n",
       "        vertical-align: middle;\n",
       "    }\n",
       "\n",
       "    .dataframe tbody tr th {\n",
       "        vertical-align: top;\n",
       "    }\n",
       "\n",
       "    .dataframe thead th {\n",
       "        text-align: right;\n",
       "    }\n",
       "</style>\n",
       "<table border=\"1\" class=\"dataframe\">\n",
       "  <thead>\n",
       "    <tr style=\"text-align: right;\">\n",
       "      <th></th>\n",
       "      <th>Gender</th>\n",
       "      <th>Age</th>\n",
       "      <th>Education Level</th>\n",
       "      <th>Institution Type</th>\n",
       "      <th>IT Student</th>\n",
       "      <th>Location</th>\n",
       "      <th>Load-shedding</th>\n",
       "      <th>Financial Condition</th>\n",
       "      <th>Internet Type</th>\n",
       "      <th>Network Type</th>\n",
       "      <th>Class Duration</th>\n",
       "      <th>Self Lms</th>\n",
       "      <th>Device</th>\n",
       "      <th>Adaptivity Level</th>\n",
       "    </tr>\n",
       "  </thead>\n",
       "  <tbody>\n",
       "    <tr>\n",
       "      <th>0</th>\n",
       "      <td>Boy</td>\n",
       "      <td>21-25</td>\n",
       "      <td>University</td>\n",
       "      <td>Non Government</td>\n",
       "      <td>No</td>\n",
       "      <td>Yes</td>\n",
       "      <td>Low</td>\n",
       "      <td>Mid</td>\n",
       "      <td>Wifi</td>\n",
       "      <td>4G</td>\n",
       "      <td>3-6</td>\n",
       "      <td>No</td>\n",
       "      <td>Tab</td>\n",
       "      <td>Moderate</td>\n",
       "    </tr>\n",
       "    <tr>\n",
       "      <th>1</th>\n",
       "      <td>Girl</td>\n",
       "      <td>21-25</td>\n",
       "      <td>University</td>\n",
       "      <td>Non Government</td>\n",
       "      <td>No</td>\n",
       "      <td>Yes</td>\n",
       "      <td>High</td>\n",
       "      <td>Mid</td>\n",
       "      <td>Mobile Data</td>\n",
       "      <td>4G</td>\n",
       "      <td>1-3</td>\n",
       "      <td>Yes</td>\n",
       "      <td>Mobile</td>\n",
       "      <td>Moderate</td>\n",
       "    </tr>\n",
       "    <tr>\n",
       "      <th>2</th>\n",
       "      <td>Girl</td>\n",
       "      <td>16-20</td>\n",
       "      <td>College</td>\n",
       "      <td>Government</td>\n",
       "      <td>No</td>\n",
       "      <td>Yes</td>\n",
       "      <td>Low</td>\n",
       "      <td>Mid</td>\n",
       "      <td>Wifi</td>\n",
       "      <td>4G</td>\n",
       "      <td>1-3</td>\n",
       "      <td>No</td>\n",
       "      <td>Mobile</td>\n",
       "      <td>Moderate</td>\n",
       "    </tr>\n",
       "    <tr>\n",
       "      <th>3</th>\n",
       "      <td>Girl</td>\n",
       "      <td>11-15</td>\n",
       "      <td>School</td>\n",
       "      <td>Non Government</td>\n",
       "      <td>No</td>\n",
       "      <td>Yes</td>\n",
       "      <td>Low</td>\n",
       "      <td>Mid</td>\n",
       "      <td>Mobile Data</td>\n",
       "      <td>4G</td>\n",
       "      <td>1-3</td>\n",
       "      <td>No</td>\n",
       "      <td>Mobile</td>\n",
       "      <td>Moderate</td>\n",
       "    </tr>\n",
       "    <tr>\n",
       "      <th>4</th>\n",
       "      <td>Girl</td>\n",
       "      <td>16-20</td>\n",
       "      <td>School</td>\n",
       "      <td>Non Government</td>\n",
       "      <td>No</td>\n",
       "      <td>Yes</td>\n",
       "      <td>Low</td>\n",
       "      <td>Poor</td>\n",
       "      <td>Mobile Data</td>\n",
       "      <td>3G</td>\n",
       "      <td>0</td>\n",
       "      <td>No</td>\n",
       "      <td>Mobile</td>\n",
       "      <td>Low</td>\n",
       "    </tr>\n",
       "    <tr>\n",
       "      <th>5</th>\n",
       "      <td>Boy</td>\n",
       "      <td>11-15</td>\n",
       "      <td>School</td>\n",
       "      <td>Non Government</td>\n",
       "      <td>No</td>\n",
       "      <td>Yes</td>\n",
       "      <td>Low</td>\n",
       "      <td>Poor</td>\n",
       "      <td>Mobile Data</td>\n",
       "      <td>3G</td>\n",
       "      <td>1-3</td>\n",
       "      <td>No</td>\n",
       "      <td>Mobile</td>\n",
       "      <td>Low</td>\n",
       "    </tr>\n",
       "    <tr>\n",
       "      <th>6</th>\n",
       "      <td>Boy</td>\n",
       "      <td>11-15</td>\n",
       "      <td>School</td>\n",
       "      <td>Non Government</td>\n",
       "      <td>No</td>\n",
       "      <td>Yes</td>\n",
       "      <td>Low</td>\n",
       "      <td>Mid</td>\n",
       "      <td>Wifi</td>\n",
       "      <td>4G</td>\n",
       "      <td>0</td>\n",
       "      <td>No</td>\n",
       "      <td>Mobile</td>\n",
       "      <td>Low</td>\n",
       "    </tr>\n",
       "    <tr>\n",
       "      <th>7</th>\n",
       "      <td>Boy</td>\n",
       "      <td>11-15</td>\n",
       "      <td>School</td>\n",
       "      <td>Non Government</td>\n",
       "      <td>No</td>\n",
       "      <td>Yes</td>\n",
       "      <td>Low</td>\n",
       "      <td>Mid</td>\n",
       "      <td>Wifi</td>\n",
       "      <td>4G</td>\n",
       "      <td>1-3</td>\n",
       "      <td>No</td>\n",
       "      <td>Mobile</td>\n",
       "      <td>Moderate</td>\n",
       "    </tr>\n",
       "    <tr>\n",
       "      <th>8</th>\n",
       "      <td>Boy</td>\n",
       "      <td>16-20</td>\n",
       "      <td>College</td>\n",
       "      <td>Government</td>\n",
       "      <td>No</td>\n",
       "      <td>Yes</td>\n",
       "      <td>Low</td>\n",
       "      <td>Mid</td>\n",
       "      <td>Wifi</td>\n",
       "      <td>4G</td>\n",
       "      <td>1-3</td>\n",
       "      <td>No</td>\n",
       "      <td>Mobile</td>\n",
       "      <td>Low</td>\n",
       "    </tr>\n",
       "    <tr>\n",
       "      <th>9</th>\n",
       "      <td>Boy</td>\n",
       "      <td>11-15</td>\n",
       "      <td>School</td>\n",
       "      <td>Non Government</td>\n",
       "      <td>No</td>\n",
       "      <td>Yes</td>\n",
       "      <td>Low</td>\n",
       "      <td>Mid</td>\n",
       "      <td>Mobile Data</td>\n",
       "      <td>3G</td>\n",
       "      <td>1-3</td>\n",
       "      <td>No</td>\n",
       "      <td>Mobile</td>\n",
       "      <td>Moderate</td>\n",
       "    </tr>\n",
       "    <tr>\n",
       "      <th>10</th>\n",
       "      <td>Girl</td>\n",
       "      <td>16-20</td>\n",
       "      <td>University</td>\n",
       "      <td>Government</td>\n",
       "      <td>No</td>\n",
       "      <td>Yes</td>\n",
       "      <td>Low</td>\n",
       "      <td>Mid</td>\n",
       "      <td>Wifi</td>\n",
       "      <td>4G</td>\n",
       "      <td>1-3</td>\n",
       "      <td>No</td>\n",
       "      <td>Mobile</td>\n",
       "      <td>Low</td>\n",
       "    </tr>\n",
       "    <tr>\n",
       "      <th>11</th>\n",
       "      <td>Girl</td>\n",
       "      <td>16-20</td>\n",
       "      <td>College</td>\n",
       "      <td>Non Government</td>\n",
       "      <td>No</td>\n",
       "      <td>Yes</td>\n",
       "      <td>Low</td>\n",
       "      <td>Mid</td>\n",
       "      <td>Wifi</td>\n",
       "      <td>4G</td>\n",
       "      <td>1-3</td>\n",
       "      <td>No</td>\n",
       "      <td>Mobile</td>\n",
       "      <td>Low</td>\n",
       "    </tr>\n",
       "    <tr>\n",
       "      <th>12</th>\n",
       "      <td>Boy</td>\n",
       "      <td>11-15</td>\n",
       "      <td>School</td>\n",
       "      <td>Non Government</td>\n",
       "      <td>Yes</td>\n",
       "      <td>Yes</td>\n",
       "      <td>Low</td>\n",
       "      <td>Mid</td>\n",
       "      <td>Mobile Data</td>\n",
       "      <td>3G</td>\n",
       "      <td>1-3</td>\n",
       "      <td>No</td>\n",
       "      <td>Mobile</td>\n",
       "      <td>Moderate</td>\n",
       "    </tr>\n",
       "    <tr>\n",
       "      <th>13</th>\n",
       "      <td>Girl</td>\n",
       "      <td>16-20</td>\n",
       "      <td>College</td>\n",
       "      <td>Non Government</td>\n",
       "      <td>No</td>\n",
       "      <td>No</td>\n",
       "      <td>Low</td>\n",
       "      <td>Mid</td>\n",
       "      <td>Wifi</td>\n",
       "      <td>4G</td>\n",
       "      <td>1-3</td>\n",
       "      <td>No</td>\n",
       "      <td>Mobile</td>\n",
       "      <td>Low</td>\n",
       "    </tr>\n",
       "    <tr>\n",
       "      <th>14</th>\n",
       "      <td>Girl</td>\n",
       "      <td>11-15</td>\n",
       "      <td>School</td>\n",
       "      <td>Non Government</td>\n",
       "      <td>No</td>\n",
       "      <td>Yes</td>\n",
       "      <td>Low</td>\n",
       "      <td>Poor</td>\n",
       "      <td>Mobile Data</td>\n",
       "      <td>3G</td>\n",
       "      <td>1-3</td>\n",
       "      <td>No</td>\n",
       "      <td>Mobile</td>\n",
       "      <td>Moderate</td>\n",
       "    </tr>\n",
       "    <tr>\n",
       "      <th>15</th>\n",
       "      <td>Boy</td>\n",
       "      <td>11-15</td>\n",
       "      <td>School</td>\n",
       "      <td>Non Government</td>\n",
       "      <td>No</td>\n",
       "      <td>Yes</td>\n",
       "      <td>High</td>\n",
       "      <td>Poor</td>\n",
       "      <td>Wifi</td>\n",
       "      <td>4G</td>\n",
       "      <td>1-3</td>\n",
       "      <td>No</td>\n",
       "      <td>Mobile</td>\n",
       "      <td>Low</td>\n",
       "    </tr>\n",
       "    <tr>\n",
       "      <th>16</th>\n",
       "      <td>Girl</td>\n",
       "      <td>26-30</td>\n",
       "      <td>University</td>\n",
       "      <td>Government</td>\n",
       "      <td>Yes</td>\n",
       "      <td>Yes</td>\n",
       "      <td>Low</td>\n",
       "      <td>Poor</td>\n",
       "      <td>Mobile Data</td>\n",
       "      <td>4G</td>\n",
       "      <td>0</td>\n",
       "      <td>No</td>\n",
       "      <td>Computer</td>\n",
       "      <td>Low</td>\n",
       "    </tr>\n",
       "    <tr>\n",
       "      <th>17</th>\n",
       "      <td>Girl</td>\n",
       "      <td>21-25</td>\n",
       "      <td>University</td>\n",
       "      <td>Government</td>\n",
       "      <td>No</td>\n",
       "      <td>No</td>\n",
       "      <td>Low</td>\n",
       "      <td>Mid</td>\n",
       "      <td>Wifi</td>\n",
       "      <td>4G</td>\n",
       "      <td>1-3</td>\n",
       "      <td>No</td>\n",
       "      <td>Mobile</td>\n",
       "      <td>Low</td>\n",
       "    </tr>\n",
       "    <tr>\n",
       "      <th>18</th>\n",
       "      <td>Girl</td>\n",
       "      <td>16-20</td>\n",
       "      <td>College</td>\n",
       "      <td>Non Government</td>\n",
       "      <td>No</td>\n",
       "      <td>Yes</td>\n",
       "      <td>High</td>\n",
       "      <td>Mid</td>\n",
       "      <td>Wifi</td>\n",
       "      <td>4G</td>\n",
       "      <td>1-3</td>\n",
       "      <td>No</td>\n",
       "      <td>Mobile</td>\n",
       "      <td>Low</td>\n",
       "    </tr>\n",
       "    <tr>\n",
       "      <th>19</th>\n",
       "      <td>Girl</td>\n",
       "      <td>16-20</td>\n",
       "      <td>College</td>\n",
       "      <td>Non Government</td>\n",
       "      <td>No</td>\n",
       "      <td>Yes</td>\n",
       "      <td>High</td>\n",
       "      <td>Mid</td>\n",
       "      <td>Wifi</td>\n",
       "      <td>4G</td>\n",
       "      <td>3-6</td>\n",
       "      <td>No</td>\n",
       "      <td>Mobile</td>\n",
       "      <td>Moderate</td>\n",
       "    </tr>\n",
       "    <tr>\n",
       "      <th>20</th>\n",
       "      <td>Girl</td>\n",
       "      <td>6-10</td>\n",
       "      <td>School</td>\n",
       "      <td>Non Government</td>\n",
       "      <td>No</td>\n",
       "      <td>Yes</td>\n",
       "      <td>Low</td>\n",
       "      <td>Rich</td>\n",
       "      <td>Wifi</td>\n",
       "      <td>4G</td>\n",
       "      <td>1-3</td>\n",
       "      <td>No</td>\n",
       "      <td>Mobile</td>\n",
       "      <td>High</td>\n",
       "    </tr>\n",
       "    <tr>\n",
       "      <th>21</th>\n",
       "      <td>Boy</td>\n",
       "      <td>6-10</td>\n",
       "      <td>School</td>\n",
       "      <td>Government</td>\n",
       "      <td>No</td>\n",
       "      <td>Yes</td>\n",
       "      <td>Low</td>\n",
       "      <td>Mid</td>\n",
       "      <td>Mobile Data</td>\n",
       "      <td>4G</td>\n",
       "      <td>0</td>\n",
       "      <td>No</td>\n",
       "      <td>Mobile</td>\n",
       "      <td>Low</td>\n",
       "    </tr>\n",
       "    <tr>\n",
       "      <th>22</th>\n",
       "      <td>Girl</td>\n",
       "      <td>16-20</td>\n",
       "      <td>College</td>\n",
       "      <td>Non Government</td>\n",
       "      <td>No</td>\n",
       "      <td>No</td>\n",
       "      <td>Low</td>\n",
       "      <td>Mid</td>\n",
       "      <td>Mobile Data</td>\n",
       "      <td>3G</td>\n",
       "      <td>3-6</td>\n",
       "      <td>Yes</td>\n",
       "      <td>Mobile</td>\n",
       "      <td>Low</td>\n",
       "    </tr>\n",
       "    <tr>\n",
       "      <th>23</th>\n",
       "      <td>Girl</td>\n",
       "      <td>11-15</td>\n",
       "      <td>School</td>\n",
       "      <td>Non Government</td>\n",
       "      <td>No</td>\n",
       "      <td>Yes</td>\n",
       "      <td>Low</td>\n",
       "      <td>Mid</td>\n",
       "      <td>Mobile Data</td>\n",
       "      <td>3G</td>\n",
       "      <td>1-3</td>\n",
       "      <td>No</td>\n",
       "      <td>Mobile</td>\n",
       "      <td>Moderate</td>\n",
       "    </tr>\n",
       "    <tr>\n",
       "      <th>24</th>\n",
       "      <td>Boy</td>\n",
       "      <td>16-20</td>\n",
       "      <td>College</td>\n",
       "      <td>Government</td>\n",
       "      <td>No</td>\n",
       "      <td>Yes</td>\n",
       "      <td>Low</td>\n",
       "      <td>Mid</td>\n",
       "      <td>Wifi</td>\n",
       "      <td>4G</td>\n",
       "      <td>3-6</td>\n",
       "      <td>No</td>\n",
       "      <td>Mobile</td>\n",
       "      <td>Moderate</td>\n",
       "    </tr>\n",
       "    <tr>\n",
       "      <th>25</th>\n",
       "      <td>Boy</td>\n",
       "      <td>11-15</td>\n",
       "      <td>School</td>\n",
       "      <td>Non Government</td>\n",
       "      <td>No</td>\n",
       "      <td>Yes</td>\n",
       "      <td>Low</td>\n",
       "      <td>Mid</td>\n",
       "      <td>Mobile Data</td>\n",
       "      <td>4G</td>\n",
       "      <td>1-3</td>\n",
       "      <td>No</td>\n",
       "      <td>Mobile</td>\n",
       "      <td>Moderate</td>\n",
       "    </tr>\n",
       "    <tr>\n",
       "      <th>26</th>\n",
       "      <td>Girl</td>\n",
       "      <td>1-5</td>\n",
       "      <td>School</td>\n",
       "      <td>Non Government</td>\n",
       "      <td>No</td>\n",
       "      <td>Yes</td>\n",
       "      <td>Low</td>\n",
       "      <td>Mid</td>\n",
       "      <td>Mobile Data</td>\n",
       "      <td>4G</td>\n",
       "      <td>1-3</td>\n",
       "      <td>No</td>\n",
       "      <td>Mobile</td>\n",
       "      <td>Moderate</td>\n",
       "    </tr>\n",
       "    <tr>\n",
       "      <th>27</th>\n",
       "      <td>Boy</td>\n",
       "      <td>26-30</td>\n",
       "      <td>University</td>\n",
       "      <td>Non Government</td>\n",
       "      <td>Yes</td>\n",
       "      <td>Yes</td>\n",
       "      <td>Low</td>\n",
       "      <td>Mid</td>\n",
       "      <td>Wifi</td>\n",
       "      <td>4G</td>\n",
       "      <td>3-6</td>\n",
       "      <td>No</td>\n",
       "      <td>Computer</td>\n",
       "      <td>Moderate</td>\n",
       "    </tr>\n",
       "    <tr>\n",
       "      <th>28</th>\n",
       "      <td>Girl</td>\n",
       "      <td>1-5</td>\n",
       "      <td>School</td>\n",
       "      <td>Non Government</td>\n",
       "      <td>No</td>\n",
       "      <td>Yes</td>\n",
       "      <td>Low</td>\n",
       "      <td>Mid</td>\n",
       "      <td>Mobile Data</td>\n",
       "      <td>4G</td>\n",
       "      <td>1-3</td>\n",
       "      <td>No</td>\n",
       "      <td>Mobile</td>\n",
       "      <td>Moderate</td>\n",
       "    </tr>\n",
       "    <tr>\n",
       "      <th>29</th>\n",
       "      <td>Girl</td>\n",
       "      <td>16-20</td>\n",
       "      <td>College</td>\n",
       "      <td>Non Government</td>\n",
       "      <td>No</td>\n",
       "      <td>Yes</td>\n",
       "      <td>High</td>\n",
       "      <td>Mid</td>\n",
       "      <td>Wifi</td>\n",
       "      <td>4G</td>\n",
       "      <td>3-6</td>\n",
       "      <td>No</td>\n",
       "      <td>Mobile</td>\n",
       "      <td>Moderate</td>\n",
       "    </tr>\n",
       "    <tr>\n",
       "      <th>30</th>\n",
       "      <td>Girl</td>\n",
       "      <td>6-10</td>\n",
       "      <td>School</td>\n",
       "      <td>Non Government</td>\n",
       "      <td>No</td>\n",
       "      <td>Yes</td>\n",
       "      <td>Low</td>\n",
       "      <td>Mid</td>\n",
       "      <td>Mobile Data</td>\n",
       "      <td>3G</td>\n",
       "      <td>1-3</td>\n",
       "      <td>No</td>\n",
       "      <td>Mobile</td>\n",
       "      <td>Moderate</td>\n",
       "    </tr>\n",
       "    <tr>\n",
       "      <th>31</th>\n",
       "      <td>Girl</td>\n",
       "      <td>16-20</td>\n",
       "      <td>College</td>\n",
       "      <td>Non Government</td>\n",
       "      <td>No</td>\n",
       "      <td>No</td>\n",
       "      <td>Low</td>\n",
       "      <td>Mid</td>\n",
       "      <td>Mobile Data</td>\n",
       "      <td>4G</td>\n",
       "      <td>1-3</td>\n",
       "      <td>No</td>\n",
       "      <td>Mobile</td>\n",
       "      <td>Low</td>\n",
       "    </tr>\n",
       "    <tr>\n",
       "      <th>32</th>\n",
       "      <td>Boy</td>\n",
       "      <td>21-25</td>\n",
       "      <td>University</td>\n",
       "      <td>Non Government</td>\n",
       "      <td>Yes</td>\n",
       "      <td>Yes</td>\n",
       "      <td>Low</td>\n",
       "      <td>Mid</td>\n",
       "      <td>Mobile Data</td>\n",
       "      <td>4G</td>\n",
       "      <td>1-3</td>\n",
       "      <td>No</td>\n",
       "      <td>Mobile</td>\n",
       "      <td>Moderate</td>\n",
       "    </tr>\n",
       "    <tr>\n",
       "      <th>33</th>\n",
       "      <td>Girl</td>\n",
       "      <td>16-20</td>\n",
       "      <td>College</td>\n",
       "      <td>Non Government</td>\n",
       "      <td>No</td>\n",
       "      <td>Yes</td>\n",
       "      <td>Low</td>\n",
       "      <td>Mid</td>\n",
       "      <td>Wifi</td>\n",
       "      <td>4G</td>\n",
       "      <td>1-3</td>\n",
       "      <td>No</td>\n",
       "      <td>Mobile</td>\n",
       "      <td>Moderate</td>\n",
       "    </tr>\n",
       "    <tr>\n",
       "      <th>34</th>\n",
       "      <td>Boy</td>\n",
       "      <td>11-15</td>\n",
       "      <td>School</td>\n",
       "      <td>Non Government</td>\n",
       "      <td>No</td>\n",
       "      <td>Yes</td>\n",
       "      <td>Low</td>\n",
       "      <td>Poor</td>\n",
       "      <td>Mobile Data</td>\n",
       "      <td>3G</td>\n",
       "      <td>1-3</td>\n",
       "      <td>No</td>\n",
       "      <td>Mobile</td>\n",
       "      <td>Low</td>\n",
       "    </tr>\n",
       "    <tr>\n",
       "      <th>35</th>\n",
       "      <td>Girl</td>\n",
       "      <td>21-25</td>\n",
       "      <td>University</td>\n",
       "      <td>Non Government</td>\n",
       "      <td>Yes</td>\n",
       "      <td>Yes</td>\n",
       "      <td>Low</td>\n",
       "      <td>Mid</td>\n",
       "      <td>Wifi</td>\n",
       "      <td>3G</td>\n",
       "      <td>3-6</td>\n",
       "      <td>Yes</td>\n",
       "      <td>Mobile</td>\n",
       "      <td>Moderate</td>\n",
       "    </tr>\n",
       "    <tr>\n",
       "      <th>36</th>\n",
       "      <td>Girl</td>\n",
       "      <td>21-25</td>\n",
       "      <td>College</td>\n",
       "      <td>Government</td>\n",
       "      <td>Yes</td>\n",
       "      <td>Yes</td>\n",
       "      <td>Low</td>\n",
       "      <td>Mid</td>\n",
       "      <td>Mobile Data</td>\n",
       "      <td>4G</td>\n",
       "      <td>1-3</td>\n",
       "      <td>No</td>\n",
       "      <td>Mobile</td>\n",
       "      <td>Moderate</td>\n",
       "    </tr>\n",
       "    <tr>\n",
       "      <th>37</th>\n",
       "      <td>Girl</td>\n",
       "      <td>6-10</td>\n",
       "      <td>School</td>\n",
       "      <td>Non Government</td>\n",
       "      <td>No</td>\n",
       "      <td>Yes</td>\n",
       "      <td>Low</td>\n",
       "      <td>Poor</td>\n",
       "      <td>Mobile Data</td>\n",
       "      <td>3G</td>\n",
       "      <td>1-3</td>\n",
       "      <td>No</td>\n",
       "      <td>Mobile</td>\n",
       "      <td>High</td>\n",
       "    </tr>\n",
       "    <tr>\n",
       "      <th>38</th>\n",
       "      <td>Girl</td>\n",
       "      <td>26-30</td>\n",
       "      <td>University</td>\n",
       "      <td>Government</td>\n",
       "      <td>No</td>\n",
       "      <td>No</td>\n",
       "      <td>Low</td>\n",
       "      <td>Poor</td>\n",
       "      <td>Mobile Data</td>\n",
       "      <td>4G</td>\n",
       "      <td>1-3</td>\n",
       "      <td>No</td>\n",
       "      <td>Mobile</td>\n",
       "      <td>Low</td>\n",
       "    </tr>\n",
       "    <tr>\n",
       "      <th>39</th>\n",
       "      <td>Girl</td>\n",
       "      <td>11-15</td>\n",
       "      <td>School</td>\n",
       "      <td>Government</td>\n",
       "      <td>No</td>\n",
       "      <td>Yes</td>\n",
       "      <td>Low</td>\n",
       "      <td>Mid</td>\n",
       "      <td>Wifi</td>\n",
       "      <td>3G</td>\n",
       "      <td>1-3</td>\n",
       "      <td>No</td>\n",
       "      <td>Mobile</td>\n",
       "      <td>Low</td>\n",
       "    </tr>\n",
       "    <tr>\n",
       "      <th>40</th>\n",
       "      <td>Boy</td>\n",
       "      <td>21-25</td>\n",
       "      <td>University</td>\n",
       "      <td>Non Government</td>\n",
       "      <td>No</td>\n",
       "      <td>Yes</td>\n",
       "      <td>Low</td>\n",
       "      <td>Mid</td>\n",
       "      <td>Wifi</td>\n",
       "      <td>4G</td>\n",
       "      <td>3-6</td>\n",
       "      <td>Yes</td>\n",
       "      <td>Computer</td>\n",
       "      <td>Moderate</td>\n",
       "    </tr>\n",
       "    <tr>\n",
       "      <th>41</th>\n",
       "      <td>Girl</td>\n",
       "      <td>21-25</td>\n",
       "      <td>University</td>\n",
       "      <td>Non Government</td>\n",
       "      <td>Yes</td>\n",
       "      <td>Yes</td>\n",
       "      <td>Low</td>\n",
       "      <td>Mid</td>\n",
       "      <td>Wifi</td>\n",
       "      <td>4G</td>\n",
       "      <td>1-3</td>\n",
       "      <td>Yes</td>\n",
       "      <td>Mobile</td>\n",
       "      <td>Moderate</td>\n",
       "    </tr>\n",
       "    <tr>\n",
       "      <th>42</th>\n",
       "      <td>Girl</td>\n",
       "      <td>16-20</td>\n",
       "      <td>School</td>\n",
       "      <td>Non Government</td>\n",
       "      <td>No</td>\n",
       "      <td>Yes</td>\n",
       "      <td>Low</td>\n",
       "      <td>Poor</td>\n",
       "      <td>Mobile Data</td>\n",
       "      <td>3G</td>\n",
       "      <td>0</td>\n",
       "      <td>No</td>\n",
       "      <td>Mobile</td>\n",
       "      <td>Low</td>\n",
       "    </tr>\n",
       "    <tr>\n",
       "      <th>43</th>\n",
       "      <td>Boy</td>\n",
       "      <td>11-15</td>\n",
       "      <td>School</td>\n",
       "      <td>Non Government</td>\n",
       "      <td>No</td>\n",
       "      <td>Yes</td>\n",
       "      <td>Low</td>\n",
       "      <td>Mid</td>\n",
       "      <td>Mobile Data</td>\n",
       "      <td>4G</td>\n",
       "      <td>1-3</td>\n",
       "      <td>No</td>\n",
       "      <td>Mobile</td>\n",
       "      <td>Moderate</td>\n",
       "    </tr>\n",
       "    <tr>\n",
       "      <th>44</th>\n",
       "      <td>Boy</td>\n",
       "      <td>21-25</td>\n",
       "      <td>University</td>\n",
       "      <td>Non Government</td>\n",
       "      <td>Yes</td>\n",
       "      <td>Yes</td>\n",
       "      <td>Low</td>\n",
       "      <td>Mid</td>\n",
       "      <td>Wifi</td>\n",
       "      <td>3G</td>\n",
       "      <td>3-6</td>\n",
       "      <td>Yes</td>\n",
       "      <td>Computer</td>\n",
       "      <td>Low</td>\n",
       "    </tr>\n",
       "    <tr>\n",
       "      <th>45</th>\n",
       "      <td>Boy</td>\n",
       "      <td>21-25</td>\n",
       "      <td>University</td>\n",
       "      <td>Non Government</td>\n",
       "      <td>Yes</td>\n",
       "      <td>Yes</td>\n",
       "      <td>Low</td>\n",
       "      <td>Mid</td>\n",
       "      <td>Wifi</td>\n",
       "      <td>4G</td>\n",
       "      <td>1-3</td>\n",
       "      <td>No</td>\n",
       "      <td>Computer</td>\n",
       "      <td>Moderate</td>\n",
       "    </tr>\n",
       "    <tr>\n",
       "      <th>46</th>\n",
       "      <td>Girl</td>\n",
       "      <td>1-5</td>\n",
       "      <td>School</td>\n",
       "      <td>Non Government</td>\n",
       "      <td>No</td>\n",
       "      <td>Yes</td>\n",
       "      <td>Low</td>\n",
       "      <td>Poor</td>\n",
       "      <td>Mobile Data</td>\n",
       "      <td>4G</td>\n",
       "      <td>1-3</td>\n",
       "      <td>No</td>\n",
       "      <td>Mobile</td>\n",
       "      <td>Moderate</td>\n",
       "    </tr>\n",
       "    <tr>\n",
       "      <th>47</th>\n",
       "      <td>Girl</td>\n",
       "      <td>11-15</td>\n",
       "      <td>School</td>\n",
       "      <td>Non Government</td>\n",
       "      <td>No</td>\n",
       "      <td>Yes</td>\n",
       "      <td>Low</td>\n",
       "      <td>Mid</td>\n",
       "      <td>Mobile Data</td>\n",
       "      <td>3G</td>\n",
       "      <td>1-3</td>\n",
       "      <td>No</td>\n",
       "      <td>Mobile</td>\n",
       "      <td>Moderate</td>\n",
       "    </tr>\n",
       "    <tr>\n",
       "      <th>48</th>\n",
       "      <td>Boy</td>\n",
       "      <td>11-15</td>\n",
       "      <td>School</td>\n",
       "      <td>Non Government</td>\n",
       "      <td>No</td>\n",
       "      <td>Yes</td>\n",
       "      <td>Low</td>\n",
       "      <td>Mid</td>\n",
       "      <td>Mobile Data</td>\n",
       "      <td>4G</td>\n",
       "      <td>1-3</td>\n",
       "      <td>No</td>\n",
       "      <td>Mobile</td>\n",
       "      <td>Moderate</td>\n",
       "    </tr>\n",
       "    <tr>\n",
       "      <th>49</th>\n",
       "      <td>Boy</td>\n",
       "      <td>21-25</td>\n",
       "      <td>University</td>\n",
       "      <td>Non Government</td>\n",
       "      <td>Yes</td>\n",
       "      <td>Yes</td>\n",
       "      <td>Low</td>\n",
       "      <td>Mid</td>\n",
       "      <td>Wifi</td>\n",
       "      <td>3G</td>\n",
       "      <td>3-6</td>\n",
       "      <td>Yes</td>\n",
       "      <td>Computer</td>\n",
       "      <td>Low</td>\n",
       "    </tr>\n",
       "  </tbody>\n",
       "</table>\n",
       "</div>"
      ],
      "text/plain": [
       "   Gender    Age Education Level Institution Type IT Student Location  \\\n",
       "0     Boy  21-25      University   Non Government         No      Yes   \n",
       "1    Girl  21-25      University   Non Government         No      Yes   \n",
       "2    Girl  16-20         College       Government         No      Yes   \n",
       "3    Girl  11-15          School   Non Government         No      Yes   \n",
       "4    Girl  16-20          School   Non Government         No      Yes   \n",
       "5     Boy  11-15          School   Non Government         No      Yes   \n",
       "6     Boy  11-15          School   Non Government         No      Yes   \n",
       "7     Boy  11-15          School   Non Government         No      Yes   \n",
       "8     Boy  16-20         College       Government         No      Yes   \n",
       "9     Boy  11-15          School   Non Government         No      Yes   \n",
       "10   Girl  16-20      University       Government         No      Yes   \n",
       "11   Girl  16-20         College   Non Government         No      Yes   \n",
       "12    Boy  11-15          School   Non Government        Yes      Yes   \n",
       "13   Girl  16-20         College   Non Government         No       No   \n",
       "14   Girl  11-15          School   Non Government         No      Yes   \n",
       "15    Boy  11-15          School   Non Government         No      Yes   \n",
       "16   Girl  26-30      University       Government        Yes      Yes   \n",
       "17   Girl  21-25      University       Government         No       No   \n",
       "18   Girl  16-20         College   Non Government         No      Yes   \n",
       "19   Girl  16-20         College   Non Government         No      Yes   \n",
       "20   Girl   6-10          School   Non Government         No      Yes   \n",
       "21    Boy   6-10          School       Government         No      Yes   \n",
       "22   Girl  16-20         College   Non Government         No       No   \n",
       "23   Girl  11-15          School   Non Government         No      Yes   \n",
       "24    Boy  16-20         College       Government         No      Yes   \n",
       "25    Boy  11-15          School   Non Government         No      Yes   \n",
       "26   Girl    1-5          School   Non Government         No      Yes   \n",
       "27    Boy  26-30      University   Non Government        Yes      Yes   \n",
       "28   Girl    1-5          School   Non Government         No      Yes   \n",
       "29   Girl  16-20         College   Non Government         No      Yes   \n",
       "30   Girl   6-10          School   Non Government         No      Yes   \n",
       "31   Girl  16-20         College   Non Government         No       No   \n",
       "32    Boy  21-25      University   Non Government        Yes      Yes   \n",
       "33   Girl  16-20         College   Non Government         No      Yes   \n",
       "34    Boy  11-15          School   Non Government         No      Yes   \n",
       "35   Girl  21-25      University   Non Government        Yes      Yes   \n",
       "36   Girl  21-25         College       Government        Yes      Yes   \n",
       "37   Girl   6-10          School   Non Government         No      Yes   \n",
       "38   Girl  26-30      University       Government         No       No   \n",
       "39   Girl  11-15          School       Government         No      Yes   \n",
       "40    Boy  21-25      University   Non Government         No      Yes   \n",
       "41   Girl  21-25      University   Non Government        Yes      Yes   \n",
       "42   Girl  16-20          School   Non Government         No      Yes   \n",
       "43    Boy  11-15          School   Non Government         No      Yes   \n",
       "44    Boy  21-25      University   Non Government        Yes      Yes   \n",
       "45    Boy  21-25      University   Non Government        Yes      Yes   \n",
       "46   Girl    1-5          School   Non Government         No      Yes   \n",
       "47   Girl  11-15          School   Non Government         No      Yes   \n",
       "48    Boy  11-15          School   Non Government         No      Yes   \n",
       "49    Boy  21-25      University   Non Government        Yes      Yes   \n",
       "\n",
       "   Load-shedding Financial Condition Internet Type Network Type  \\\n",
       "0            Low                 Mid          Wifi           4G   \n",
       "1           High                 Mid   Mobile Data           4G   \n",
       "2            Low                 Mid          Wifi           4G   \n",
       "3            Low                 Mid   Mobile Data           4G   \n",
       "4            Low                Poor   Mobile Data           3G   \n",
       "5            Low                Poor   Mobile Data           3G   \n",
       "6            Low                 Mid          Wifi           4G   \n",
       "7            Low                 Mid          Wifi           4G   \n",
       "8            Low                 Mid          Wifi           4G   \n",
       "9            Low                 Mid   Mobile Data           3G   \n",
       "10           Low                 Mid          Wifi           4G   \n",
       "11           Low                 Mid          Wifi           4G   \n",
       "12           Low                 Mid   Mobile Data           3G   \n",
       "13           Low                 Mid          Wifi           4G   \n",
       "14           Low                Poor   Mobile Data           3G   \n",
       "15          High                Poor          Wifi           4G   \n",
       "16           Low                Poor   Mobile Data           4G   \n",
       "17           Low                 Mid          Wifi           4G   \n",
       "18          High                 Mid          Wifi           4G   \n",
       "19          High                 Mid          Wifi           4G   \n",
       "20           Low                Rich          Wifi           4G   \n",
       "21           Low                 Mid   Mobile Data           4G   \n",
       "22           Low                 Mid   Mobile Data           3G   \n",
       "23           Low                 Mid   Mobile Data           3G   \n",
       "24           Low                 Mid          Wifi           4G   \n",
       "25           Low                 Mid   Mobile Data           4G   \n",
       "26           Low                 Mid   Mobile Data           4G   \n",
       "27           Low                 Mid          Wifi           4G   \n",
       "28           Low                 Mid   Mobile Data           4G   \n",
       "29          High                 Mid          Wifi           4G   \n",
       "30           Low                 Mid   Mobile Data           3G   \n",
       "31           Low                 Mid   Mobile Data           4G   \n",
       "32           Low                 Mid   Mobile Data           4G   \n",
       "33           Low                 Mid          Wifi           4G   \n",
       "34           Low                Poor   Mobile Data           3G   \n",
       "35           Low                 Mid          Wifi           3G   \n",
       "36           Low                 Mid   Mobile Data           4G   \n",
       "37           Low                Poor   Mobile Data           3G   \n",
       "38           Low                Poor   Mobile Data           4G   \n",
       "39           Low                 Mid          Wifi           3G   \n",
       "40           Low                 Mid          Wifi           4G   \n",
       "41           Low                 Mid          Wifi           4G   \n",
       "42           Low                Poor   Mobile Data           3G   \n",
       "43           Low                 Mid   Mobile Data           4G   \n",
       "44           Low                 Mid          Wifi           3G   \n",
       "45           Low                 Mid          Wifi           4G   \n",
       "46           Low                Poor   Mobile Data           4G   \n",
       "47           Low                 Mid   Mobile Data           3G   \n",
       "48           Low                 Mid   Mobile Data           4G   \n",
       "49           Low                 Mid          Wifi           3G   \n",
       "\n",
       "   Class Duration Self Lms    Device Adaptivity Level  \n",
       "0             3-6       No       Tab         Moderate  \n",
       "1             1-3      Yes    Mobile         Moderate  \n",
       "2             1-3       No    Mobile         Moderate  \n",
       "3             1-3       No    Mobile         Moderate  \n",
       "4               0       No    Mobile              Low  \n",
       "5             1-3       No    Mobile              Low  \n",
       "6               0       No    Mobile              Low  \n",
       "7             1-3       No    Mobile         Moderate  \n",
       "8             1-3       No    Mobile              Low  \n",
       "9             1-3       No    Mobile         Moderate  \n",
       "10            1-3       No    Mobile              Low  \n",
       "11            1-3       No    Mobile              Low  \n",
       "12            1-3       No    Mobile         Moderate  \n",
       "13            1-3       No    Mobile              Low  \n",
       "14            1-3       No    Mobile         Moderate  \n",
       "15            1-3       No    Mobile              Low  \n",
       "16              0       No  Computer              Low  \n",
       "17            1-3       No    Mobile              Low  \n",
       "18            1-3       No    Mobile              Low  \n",
       "19            3-6       No    Mobile         Moderate  \n",
       "20            1-3       No    Mobile             High  \n",
       "21              0       No    Mobile              Low  \n",
       "22            3-6      Yes    Mobile              Low  \n",
       "23            1-3       No    Mobile         Moderate  \n",
       "24            3-6       No    Mobile         Moderate  \n",
       "25            1-3       No    Mobile         Moderate  \n",
       "26            1-3       No    Mobile         Moderate  \n",
       "27            3-6       No  Computer         Moderate  \n",
       "28            1-3       No    Mobile         Moderate  \n",
       "29            3-6       No    Mobile         Moderate  \n",
       "30            1-3       No    Mobile         Moderate  \n",
       "31            1-3       No    Mobile              Low  \n",
       "32            1-3       No    Mobile         Moderate  \n",
       "33            1-3       No    Mobile         Moderate  \n",
       "34            1-3       No    Mobile              Low  \n",
       "35            3-6      Yes    Mobile         Moderate  \n",
       "36            1-3       No    Mobile         Moderate  \n",
       "37            1-3       No    Mobile             High  \n",
       "38            1-3       No    Mobile              Low  \n",
       "39            1-3       No    Mobile              Low  \n",
       "40            3-6      Yes  Computer         Moderate  \n",
       "41            1-3      Yes    Mobile         Moderate  \n",
       "42              0       No    Mobile              Low  \n",
       "43            1-3       No    Mobile         Moderate  \n",
       "44            3-6      Yes  Computer              Low  \n",
       "45            1-3       No  Computer         Moderate  \n",
       "46            1-3       No    Mobile         Moderate  \n",
       "47            1-3       No    Mobile         Moderate  \n",
       "48            1-3       No    Mobile         Moderate  \n",
       "49            3-6      Yes  Computer              Low  "
      ]
     },
     "execution_count": 3,
     "metadata": {},
     "output_type": "execute_result"
    }
   ],
   "source": [
    "#Importing the dataset\n",
    "df = pd.read_csv(\"students_adaptability_level_online_education.csv\")\n",
    "\n",
    "# look the data set\n",
    "df.head(50)"
   ]
  },
  {
   "cell_type": "code",
   "execution_count": 4,
   "id": "49e5957f",
   "metadata": {
    "execution": {
     "iopub.execute_input": "2022-06-14T19:03:51.978546Z",
     "iopub.status.busy": "2022-06-14T19:03:51.978030Z",
     "iopub.status.idle": "2022-06-14T19:03:51.983753Z",
     "shell.execute_reply": "2022-06-14T19:03:51.982831Z"
    },
    "papermill": {
     "duration": 0.015717,
     "end_time": "2022-06-14T19:03:51.985525",
     "exception": false,
     "start_time": "2022-06-14T19:03:51.969808",
     "status": "completed"
    },
    "tags": []
   },
   "outputs": [
    {
     "data": {
      "text/plain": [
       "(1205, 14)"
      ]
     },
     "execution_count": 4,
     "metadata": {},
     "output_type": "execute_result"
    }
   ],
   "source": [
    "# looking the shape DataSet\n",
    "df.shape"
   ]
  },
  {
   "cell_type": "code",
   "execution_count": 5,
   "id": "643e746b",
   "metadata": {
    "execution": {
     "iopub.execute_input": "2022-06-14T19:03:52.001720Z",
     "iopub.status.busy": "2022-06-14T19:03:52.001231Z",
     "iopub.status.idle": "2022-06-14T19:03:52.021959Z",
     "shell.execute_reply": "2022-06-14T19:03:52.020923Z"
    },
    "papermill": {
     "duration": 0.03118,
     "end_time": "2022-06-14T19:03:52.024025",
     "exception": false,
     "start_time": "2022-06-14T19:03:51.992845",
     "status": "completed"
    },
    "tags": []
   },
   "outputs": [
    {
     "name": "stdout",
     "output_type": "stream",
     "text": [
      "<class 'pandas.core.frame.DataFrame'>\n",
      "RangeIndex: 1205 entries, 0 to 1204\n",
      "Data columns (total 14 columns):\n",
      " #   Column               Non-Null Count  Dtype \n",
      "---  ------               --------------  ----- \n",
      " 0   Gender               1205 non-null   object\n",
      " 1   Age                  1205 non-null   object\n",
      " 2   Education Level      1205 non-null   object\n",
      " 3   Institution Type     1205 non-null   object\n",
      " 4   IT Student           1205 non-null   object\n",
      " 5   Location             1205 non-null   object\n",
      " 6   Load-shedding        1205 non-null   object\n",
      " 7   Financial Condition  1205 non-null   object\n",
      " 8   Internet Type        1205 non-null   object\n",
      " 9   Network Type         1205 non-null   object\n",
      " 10  Class Duration       1205 non-null   object\n",
      " 11  Self Lms             1205 non-null   object\n",
      " 12  Device               1205 non-null   object\n",
      " 13  Adaptivity Level     1205 non-null   object\n",
      "dtypes: object(14)\n",
      "memory usage: 131.9+ KB\n"
     ]
    }
   ],
   "source": [
    "#Checking the dtypes of all the columns\n",
    "\n",
    "df.info()"
   ]
  },
  {
   "cell_type": "code",
   "execution_count": 6,
   "id": "01f8b523",
   "metadata": {
    "execution": {
     "iopub.execute_input": "2022-06-14T19:03:52.042670Z",
     "iopub.status.busy": "2022-06-14T19:03:52.041734Z",
     "iopub.status.idle": "2022-06-14T19:03:52.050217Z",
     "shell.execute_reply": "2022-06-14T19:03:52.049444Z"
    },
    "papermill": {
     "duration": 0.018556,
     "end_time": "2022-06-14T19:03:52.051937",
     "exception": false,
     "start_time": "2022-06-14T19:03:52.033381",
     "status": "completed"
    },
    "tags": []
   },
   "outputs": [
    {
     "data": {
      "text/plain": [
       "Gender                 0\n",
       "Age                    0\n",
       "Education Level        0\n",
       "Institution Type       0\n",
       "IT Student             0\n",
       "Location               0\n",
       "Load-shedding          0\n",
       "Financial Condition    0\n",
       "Internet Type          0\n",
       "Network Type           0\n",
       "Class Duration         0\n",
       "Self Lms               0\n",
       "Device                 0\n",
       "Adaptivity Level       0\n",
       "dtype: int64"
      ]
     },
     "execution_count": 6,
     "metadata": {},
     "output_type": "execute_result"
    }
   ],
   "source": [
    "# missing value\n",
    "\n",
    "df.isnull().sum()"
   ]
  },
  {
   "cell_type": "markdown",
   "id": "1e993922",
   "metadata": {
    "papermill": {
     "duration": 0.00705,
     "end_time": "2022-06-14T19:03:52.066298",
     "exception": false,
     "start_time": "2022-06-14T19:03:52.059248",
     "status": "completed"
    },
    "tags": []
   },
   "source": [
    "- No any missing value"
   ]
  },
  {
   "cell_type": "code",
   "execution_count": 7,
   "id": "b6f18be6",
   "metadata": {
    "execution": {
     "iopub.execute_input": "2022-06-14T19:03:52.082234Z",
     "iopub.status.busy": "2022-06-14T19:03:52.081910Z",
     "iopub.status.idle": "2022-06-14T19:03:52.110430Z",
     "shell.execute_reply": "2022-06-14T19:03:52.109599Z"
    },
    "papermill": {
     "duration": 0.038706,
     "end_time": "2022-06-14T19:03:52.112243",
     "exception": false,
     "start_time": "2022-06-14T19:03:52.073537",
     "status": "completed"
    },
    "tags": []
   },
   "outputs": [
    {
     "data": {
      "text/html": [
       "<div>\n",
       "<style scoped>\n",
       "    .dataframe tbody tr th:only-of-type {\n",
       "        vertical-align: middle;\n",
       "    }\n",
       "\n",
       "    .dataframe tbody tr th {\n",
       "        vertical-align: top;\n",
       "    }\n",
       "\n",
       "    .dataframe thead th {\n",
       "        text-align: right;\n",
       "    }\n",
       "</style>\n",
       "<table border=\"1\" class=\"dataframe\">\n",
       "  <thead>\n",
       "    <tr style=\"text-align: right;\">\n",
       "      <th></th>\n",
       "      <th>count</th>\n",
       "      <th>unique</th>\n",
       "      <th>top</th>\n",
       "      <th>freq</th>\n",
       "    </tr>\n",
       "  </thead>\n",
       "  <tbody>\n",
       "    <tr>\n",
       "      <th>Gender</th>\n",
       "      <td>1205</td>\n",
       "      <td>2</td>\n",
       "      <td>Boy</td>\n",
       "      <td>663</td>\n",
       "    </tr>\n",
       "    <tr>\n",
       "      <th>Age</th>\n",
       "      <td>1205</td>\n",
       "      <td>6</td>\n",
       "      <td>21-25</td>\n",
       "      <td>374</td>\n",
       "    </tr>\n",
       "    <tr>\n",
       "      <th>Education Level</th>\n",
       "      <td>1205</td>\n",
       "      <td>3</td>\n",
       "      <td>School</td>\n",
       "      <td>530</td>\n",
       "    </tr>\n",
       "    <tr>\n",
       "      <th>Institution Type</th>\n",
       "      <td>1205</td>\n",
       "      <td>2</td>\n",
       "      <td>Non Government</td>\n",
       "      <td>823</td>\n",
       "    </tr>\n",
       "    <tr>\n",
       "      <th>IT Student</th>\n",
       "      <td>1205</td>\n",
       "      <td>2</td>\n",
       "      <td>No</td>\n",
       "      <td>901</td>\n",
       "    </tr>\n",
       "    <tr>\n",
       "      <th>Location</th>\n",
       "      <td>1205</td>\n",
       "      <td>2</td>\n",
       "      <td>Yes</td>\n",
       "      <td>935</td>\n",
       "    </tr>\n",
       "    <tr>\n",
       "      <th>Load-shedding</th>\n",
       "      <td>1205</td>\n",
       "      <td>2</td>\n",
       "      <td>Low</td>\n",
       "      <td>1004</td>\n",
       "    </tr>\n",
       "    <tr>\n",
       "      <th>Financial Condition</th>\n",
       "      <td>1205</td>\n",
       "      <td>3</td>\n",
       "      <td>Mid</td>\n",
       "      <td>878</td>\n",
       "    </tr>\n",
       "    <tr>\n",
       "      <th>Internet Type</th>\n",
       "      <td>1205</td>\n",
       "      <td>2</td>\n",
       "      <td>Mobile Data</td>\n",
       "      <td>695</td>\n",
       "    </tr>\n",
       "    <tr>\n",
       "      <th>Network Type</th>\n",
       "      <td>1205</td>\n",
       "      <td>3</td>\n",
       "      <td>4G</td>\n",
       "      <td>775</td>\n",
       "    </tr>\n",
       "    <tr>\n",
       "      <th>Class Duration</th>\n",
       "      <td>1205</td>\n",
       "      <td>3</td>\n",
       "      <td>1-3</td>\n",
       "      <td>840</td>\n",
       "    </tr>\n",
       "    <tr>\n",
       "      <th>Self Lms</th>\n",
       "      <td>1205</td>\n",
       "      <td>2</td>\n",
       "      <td>No</td>\n",
       "      <td>995</td>\n",
       "    </tr>\n",
       "    <tr>\n",
       "      <th>Device</th>\n",
       "      <td>1205</td>\n",
       "      <td>3</td>\n",
       "      <td>Mobile</td>\n",
       "      <td>1013</td>\n",
       "    </tr>\n",
       "    <tr>\n",
       "      <th>Adaptivity Level</th>\n",
       "      <td>1205</td>\n",
       "      <td>3</td>\n",
       "      <td>Moderate</td>\n",
       "      <td>625</td>\n",
       "    </tr>\n",
       "  </tbody>\n",
       "</table>\n",
       "</div>"
      ],
      "text/plain": [
       "                    count unique             top  freq\n",
       "Gender               1205      2             Boy   663\n",
       "Age                  1205      6           21-25   374\n",
       "Education Level      1205      3          School   530\n",
       "Institution Type     1205      2  Non Government   823\n",
       "IT Student           1205      2              No   901\n",
       "Location             1205      2             Yes   935\n",
       "Load-shedding        1205      2             Low  1004\n",
       "Financial Condition  1205      3             Mid   878\n",
       "Internet Type        1205      2     Mobile Data   695\n",
       "Network Type         1205      3              4G   775\n",
       "Class Duration       1205      3             1-3   840\n",
       "Self Lms             1205      2              No   995\n",
       "Device               1205      3          Mobile  1013\n",
       "Adaptivity Level     1205      3        Moderate   625"
      ]
     },
     "execution_count": 7,
     "metadata": {},
     "output_type": "execute_result"
    }
   ],
   "source": [
    "# look  describe data set\n",
    "\n",
    "df.describe().T\n"
   ]
  },
  {
   "cell_type": "markdown",
   "id": "6faac67e",
   "metadata": {
    "papermill": {
     "duration": 0.007455,
     "end_time": "2022-06-14T19:03:52.127495",
     "exception": false,
     "start_time": "2022-06-14T19:03:52.120040",
     "status": "completed"
    },
    "tags": []
   },
   "source": [
    "## Some Visualizations"
   ]
  },
  {
   "cell_type": "code",
   "execution_count": 8,
   "id": "bb68b4dc",
   "metadata": {
    "execution": {
     "iopub.execute_input": "2022-06-14T19:03:52.144403Z",
     "iopub.status.busy": "2022-06-14T19:03:52.144064Z",
     "iopub.status.idle": "2022-06-14T19:03:52.334694Z",
     "shell.execute_reply": "2022-06-14T19:03:52.333388Z"
    },
    "papermill": {
     "duration": 0.203988,
     "end_time": "2022-06-14T19:03:52.339212",
     "exception": false,
     "start_time": "2022-06-14T19:03:52.135224",
     "status": "completed"
    },
    "tags": []
   },
   "outputs": [
    {
     "data": {
      "text/plain": [
       "<AxesSubplot:ylabel='Adaptivity Level'>"
      ]
     },
     "execution_count": 8,
     "metadata": {},
     "output_type": "execute_result"
    },
    {
     "data": {
      "image/png": "[encoded data removed]",
      "text/plain": [
       "<Figure size 864x576 with 1 Axes>"
      ]
     },
     "metadata": {},
     "output_type": "display_data"
    }
   ],
   "source": [
    "# Show the percentage Adaptivity Level in Dataset\n",
    "\n",
    "plt.figure(figsize=(12,8))\n",
    "df['Adaptivity Level'].value_counts().plot.pie(autopct='%1.1f%%',shadow=True)\n"
   ]
  },
  {
   "cell_type": "markdown",
   "id": "34cd1776",
   "metadata": {
    "papermill": {
     "duration": 0.016565,
     "end_time": "2022-06-14T19:03:52.372839",
     "exception": false,
     "start_time": "2022-06-14T19:03:52.356274",
     "status": "completed"
    },
    "tags": []
   },
   "source": [
    "### The percentage Adaptivity Level in Dataset\n",
    "- Low = 39.8%\n",
    "- Moderate = 51.9%\n",
    "- High = 8.3 %"
   ]
  },
  {
   "cell_type": "code",
   "execution_count": 9,
   "id": "79e965da",
   "metadata": {
    "execution": {
     "iopub.execute_input": "2022-06-14T19:03:52.396555Z",
     "iopub.status.busy": "2022-06-14T19:03:52.395993Z",
     "iopub.status.idle": "2022-06-14T19:03:52.521531Z",
     "shell.execute_reply": "2022-06-14T19:03:52.520553Z"
    },
    "papermill": {
     "duration": 0.138004,
     "end_time": "2022-06-14T19:03:52.524386",
     "exception": false,
     "start_time": "2022-06-14T19:03:52.386382",
     "status": "completed"
    },
    "tags": []
   },
   "outputs": [
    {
     "data": {
      "text/plain": [
       "<AxesSubplot:ylabel='Gender'>"
      ]
     },
     "execution_count": 9,
     "metadata": {},
     "output_type": "execute_result"
    },
    {
     "data": {
      "image/png": "[encoded data removed]",
      "text/plain": [
       "<Figure size 864x576 with 1 Axes>"
      ]
     },
     "metadata": {},
     "output_type": "display_data"
    }
   ],
   "source": [
    "# Show the percentage Gender in Dataset\n",
    "\n",
    "plt.figure(figsize=(12,8))\n",
    "\n",
    "df['Gender'].value_counts().plot.pie(autopct='%1.1f%%',shadow=True)\n"
   ]
  },
  {
   "cell_type": "markdown",
   "id": "8933087a",
   "metadata": {
    "papermill": {
     "duration": 0.017468,
     "end_time": "2022-06-14T19:03:52.560025",
     "exception": false,
     "start_time": "2022-06-14T19:03:52.542557",
     "status": "completed"
    },
    "tags": []
   },
   "source": [
    "### the percentage Gender in Dataset\n",
    "- Boy= 55%\n",
    "- Girl = 45 %"
   ]
  },
  {
   "cell_type": "code",
   "execution_count": 10,
   "id": "e9c4e061",
   "metadata": {
    "execution": {
     "iopub.execute_input": "2022-06-14T19:03:52.592918Z",
     "iopub.status.busy": "2022-06-14T19:03:52.592338Z",
     "iopub.status.idle": "2022-06-14T19:03:52.734782Z",
     "shell.execute_reply": "2022-06-14T19:03:52.733917Z"
    },
    "papermill": {
     "duration": 0.159766,
     "end_time": "2022-06-14T19:03:52.737481",
     "exception": false,
     "start_time": "2022-06-14T19:03:52.577715",
     "status": "completed"
    },
    "tags": []
   },
   "outputs": [
    {
     "data": {
      "text/plain": [
       "<AxesSubplot:ylabel='Device'>"
      ]
     },
     "execution_count": 10,
     "metadata": {},
     "output_type": "execute_result"
    },
    {
     "data": {
      "image/png": "[encoded data removed]",
      "text/plain": [
       "<Figure size 864x576 with 1 Axes>"
      ]
     },
     "metadata": {},
     "output_type": "display_data"
    }
   ],
   "source": [
    "# Show the Device using in Dataset\n",
    "\n",
    "plt.figure(figsize=(12,8))\n",
    "\n",
    "\n",
    "df['Device'].value_counts().plot.pie(autopct='%1.1f%%',shadow=True)\n"
   ]
  },
  {
   "cell_type": "markdown",
   "id": "4deaa931",
   "metadata": {
    "papermill": {
     "duration": 0.018231,
     "end_time": "2022-06-14T19:03:52.774905",
     "exception": false,
     "start_time": "2022-06-14T19:03:52.756674",
     "status": "completed"
    },
    "tags": []
   },
   "source": [
    "### The Device using in Dataset\n",
    "- Mobile = 84.1%\n",
    "- Computer = 13.4%\n",
    "- Tab = 2.5%"
   ]
  },
  {
   "cell_type": "code",
   "execution_count": 11,
   "id": "acb6d5b7",
   "metadata": {
    "execution": {
     "iopub.execute_input": "2022-06-14T19:03:52.808653Z",
     "iopub.status.busy": "2022-06-14T19:03:52.808278Z",
     "iopub.status.idle": "2022-06-14T19:03:53.004168Z",
     "shell.execute_reply": "2022-06-14T19:03:53.003216Z"
    },
    "papermill": {
     "duration": 0.212595,
     "end_time": "2022-06-14T19:03:53.006167",
     "exception": false,
     "start_time": "2022-06-14T19:03:52.793572",
     "status": "completed"
    },
    "tags": []
   },
   "outputs": [
    {
     "name": "stderr",
     "output_type": "stream",
     "text": [
      "C:\\Users\\moham\\anaconda3\\lib\\site-packages\\seaborn\\_decorators.py:36: FutureWarning: Pass the following variable as a keyword arg: x. From version 0.12, the only valid positional argument will be `data`, and passing other arguments without an explicit keyword will result in an error or misinterpretation.\n",
      "  warnings.warn(\n"
     ]
    },
    {
     "data": {
      "text/plain": [
       "<AxesSubplot:xlabel='Institution Type', ylabel='count'>"
      ]
     },
     "execution_count": 11,
     "metadata": {},
     "output_type": "execute_result"
    },
    {
     "data": {
      "image/png": "[encoded data removed]",
      "text/plain": [
       "<Figure size 864x576 with 1 Axes>"
      ]
     },
     "metadata": {
      "needs_background": "light"
     },
     "output_type": "display_data"
    }
   ],
   "source": [
    "# Show the effect Institution Type in Adaptivity Level using in Dataset\n",
    "\n",
    "plt.figure(figsize=(12,8))\n",
    "\n",
    "\n",
    "sns.countplot(df[\"Institution Type\"],hue=df[\"Adaptivity Level\"])"
   ]
  },
  {
   "cell_type": "markdown",
   "id": "9b6a04f7",
   "metadata": {
    "papermill": {
     "duration": 0.009645,
     "end_time": "2022-06-14T19:03:53.025999",
     "exception": false,
     "start_time": "2022-06-14T19:03:53.016354",
     "status": "completed"
    },
    "tags": []
   },
   "source": [
    "- In general, affect Non Government institution highest in Government institution"
   ]
  },
  {
   "cell_type": "code",
   "execution_count": 12,
   "id": "1981c578",
   "metadata": {
    "execution": {
     "iopub.execute_input": "2022-06-14T19:03:53.048504Z",
     "iopub.status.busy": "2022-06-14T19:03:53.047835Z",
     "iopub.status.idle": "2022-06-14T19:03:53.249772Z",
     "shell.execute_reply": "2022-06-14T19:03:53.249137Z"
    },
    "papermill": {
     "duration": 0.215272,
     "end_time": "2022-06-14T19:03:53.251552",
     "exception": false,
     "start_time": "2022-06-14T19:03:53.036280",
     "status": "completed"
    },
    "tags": []
   },
   "outputs": [
    {
     "name": "stderr",
     "output_type": "stream",
     "text": [
      "C:\\Users\\moham\\anaconda3\\lib\\site-packages\\seaborn\\_decorators.py:36: FutureWarning: Pass the following variable as a keyword arg: x. From version 0.12, the only valid positional argument will be `data`, and passing other arguments without an explicit keyword will result in an error or misinterpretation.\n",
      "  warnings.warn(\n"
     ]
    },
    {
     "data": {
      "text/plain": [
       "<AxesSubplot:xlabel='Financial Condition', ylabel='count'>"
      ]
     },
     "execution_count": 12,
     "metadata": {},
     "output_type": "execute_result"
    },
    {
     "data": {
      "image/png": "[encoded data removed]",
      "text/plain": [
       "<Figure size 864x576 with 1 Axes>"
      ]
     },
     "metadata": {
      "needs_background": "light"
     },
     "output_type": "display_data"
    }
   ],
   "source": [
    "# Show the effect Financial Condition in Adaptivity Level using in Dataset\n",
    "\n",
    "plt.figure(figsize=(12,8))\n",
    "\n",
    "sns.countplot(df[\"Financial Condition\"],hue=df[\"Adaptivity Level\"])"
   ]
  },
  {
   "cell_type": "markdown",
   "id": "f40b72e7",
   "metadata": {
    "papermill": {
     "duration": 0.010247,
     "end_time": "2022-06-14T19:03:53.272436",
     "exception": false,
     "start_time": "2022-06-14T19:03:53.262189",
     "status": "completed"
    },
    "tags": []
   },
   "source": [
    "- In general, affect Financial Condition in families have middle financial have highest percentage Adaptivity Level then poor families and the rich families have  less Adaptivity Level "
   ]
  },
  {
   "cell_type": "code",
   "execution_count": 13,
   "id": "c6039df5",
   "metadata": {
    "execution": {
     "iopub.execute_input": "2022-06-14T19:03:53.295041Z",
     "iopub.status.busy": "2022-06-14T19:03:53.294423Z",
     "iopub.status.idle": "2022-06-14T19:03:53.490352Z",
     "shell.execute_reply": "2022-06-14T19:03:53.489289Z"
    },
    "papermill": {
     "duration": 0.210149,
     "end_time": "2022-06-14T19:03:53.492945",
     "exception": false,
     "start_time": "2022-06-14T19:03:53.282796",
     "status": "completed"
    },
    "tags": []
   },
   "outputs": [
    {
     "name": "stderr",
     "output_type": "stream",
     "text": [
      "C:\\Users\\moham\\anaconda3\\lib\\site-packages\\seaborn\\_decorators.py:36: FutureWarning: Pass the following variable as a keyword arg: x. From version 0.12, the only valid positional argument will be `data`, and passing other arguments without an explicit keyword will result in an error or misinterpretation.\n",
      "  warnings.warn(\n"
     ]
    },
    {
     "data": {
      "text/plain": [
       "<AxesSubplot:xlabel='Gender', ylabel='count'>"
      ]
     },
     "execution_count": 13,
     "metadata": {},
     "output_type": "execute_result"
    },
    {
     "data": {
      "image/png": "[encoded data removed]",
      "text/plain": [
       "<Figure size 864x576 with 1 Axes>"
      ]
     },
     "metadata": {
      "needs_background": "light"
     },
     "output_type": "display_data"
    }
   ],
   "source": [
    "# Show the effect Gender in Adaptivity Level using in Dataset\n",
    "\n",
    "plt.figure(figsize=(12,8))\n",
    "\n",
    "sns.countplot(df[\"Gender\"],hue=df[\"Adaptivity Level\"])"
   ]
  },
  {
   "cell_type": "markdown",
   "id": "cd36964f",
   "metadata": {
    "papermill": {
     "duration": 0.010412,
     "end_time": "2022-06-14T19:03:53.514505",
     "exception": false,
     "start_time": "2022-06-14T19:03:53.504093",
     "status": "completed"
    },
    "tags": []
   },
   "source": [
    "- In general, Non more differences between the gender for Adaptivity Level"
   ]
  },
  {
   "cell_type": "code",
   "execution_count": 14,
   "id": "58f7a5d7",
   "metadata": {
    "execution": {
     "iopub.execute_input": "2022-06-14T19:03:53.537721Z",
     "iopub.status.busy": "2022-06-14T19:03:53.536769Z",
     "iopub.status.idle": "2022-06-14T19:03:53.763456Z",
     "shell.execute_reply": "2022-06-14T19:03:53.762545Z"
    },
    "papermill": {
     "duration": 0.24047,
     "end_time": "2022-06-14T19:03:53.765597",
     "exception": false,
     "start_time": "2022-06-14T19:03:53.525127",
     "status": "completed"
    },
    "tags": []
   },
   "outputs": [
    {
     "name": "stderr",
     "output_type": "stream",
     "text": [
      "C:\\Users\\moham\\anaconda3\\lib\\site-packages\\seaborn\\_decorators.py:36: FutureWarning: Pass the following variable as a keyword arg: x. From version 0.12, the only valid positional argument will be `data`, and passing other arguments without an explicit keyword will result in an error or misinterpretation.\n",
      "  warnings.warn(\n"
     ]
    },
    {
     "data": {
      "text/plain": [
       "<AxesSubplot:xlabel='Network Type', ylabel='count'>"
      ]
     },
     "execution_count": 14,
     "metadata": {},
     "output_type": "execute_result"
    },
    {
     "data": {
      "image/png": "[encoded data removed]",
      "text/plain": [
       "<Figure size 864x576 with 1 Axes>"
      ]
     },
     "metadata": {
      "needs_background": "light"
     },
     "output_type": "display_data"
    }
   ],
   "source": [
    "# Show the effect Network Type in Adaptivity Level using in Dataset\n",
    "\n",
    "plt.figure(figsize=(12,8))\n",
    "sns.countplot(df[\"Network Type\"],hue=df[\"Adaptivity Level\"])"
   ]
  },
  {
   "cell_type": "markdown",
   "id": "1f25134e",
   "metadata": {
    "papermill": {
     "duration": 0.01097,
     "end_time": "2022-06-14T19:03:53.787909",
     "exception": false,
     "start_time": "2022-06-14T19:03:53.776939",
     "status": "completed"
    },
    "tags": []
   },
   "source": [
    "- In general,most the student using 4G , and the Network 4G have the highest progress"
   ]
  },
  {
   "cell_type": "markdown",
   "id": "6e312cb7",
   "metadata": {
    "papermill": {
     "duration": 0.010754,
     "end_time": "2022-06-14T19:03:53.809741",
     "exception": false,
     "start_time": "2022-06-14T19:03:53.798987",
     "status": "completed"
    },
    "tags": []
   },
   "source": [
    "# Analysis Results\n",
    "\n",
    "- After made some visualizations I have some results:\n",
    "\n",
    "### About Dataset\n",
    "\n",
    "- The shape DataSet -> Rows=1205 / Colums =  14\n",
    "\n",
    "- The Data type of all the columns =  object\n",
    "\n",
    "- No any missing value\n",
    "\n",
    "\n",
    "\n",
    "## After Visualizations\n",
    "\n",
    "#### The percentage Adaptivity Level in Dataset\n",
    "- Low = 39.8%\n",
    "- Moderate = 51.9%\n",
    "- High = 8.3 %\n",
    "\n",
    "#### The percentage Gender in Dataset\n",
    "\n",
    "- Boy= 55%\n",
    "- Girl = 45 %\n",
    "\n",
    "#### The Device using in Dataset\n",
    "\n",
    "- Mobile = 84.1%\n",
    "- Computer = 13.4%\n",
    "- Tab = 2.5%\n",
    "\n",
    "\n",
    "#### In general, affect Non Government institution highest in Government institution\n",
    "\n",
    "#### In general, affect Financial Condition in families have middle financial have highest percentage Adaptivity Level then poor families and the rich families have less Adaptivity Level\n",
    "\n",
    "#### In general, Non more differences between the gender for Adaptivity Level\n",
    "\n",
    "#### In general,most the student using 4G , and the Network 4G have the highest progress\n"
   ]
  },
  {
   "cell_type": "code",
   "execution_count": 15,
   "id": "b3e7e885",
   "metadata": {},
   "outputs": [],
   "source": [
    "df.drop(['Location'],axis=1,inplace=True)"
   ]
  },
  {
   "cell_type": "markdown",
   "id": "b935914a",
   "metadata": {
    "papermill": {
     "duration": 0.010806,
     "end_time": "2022-06-14T19:03:53.831730",
     "exception": false,
     "start_time": "2022-06-14T19:03:53.820924",
     "status": "completed"
    },
    "tags": []
   },
   "source": [
    "# Building a Machine Learning Model /Classification Predict"
   ]
  },
  {
   "cell_type": "code",
   "execution_count": 16,
   "id": "e1898408",
   "metadata": {
    "execution": {
     "iopub.execute_input": "2022-06-14T19:03:53.856240Z",
     "iopub.status.busy": "2022-06-14T19:03:53.855541Z",
     "iopub.status.idle": "2022-06-14T19:03:54.453427Z",
     "shell.execute_reply": "2022-06-14T19:03:54.452489Z"
    },
    "papermill": {
     "duration": 0.612735,
     "end_time": "2022-06-14T19:03:54.455668",
     "exception": false,
     "start_time": "2022-06-14T19:03:53.842933",
     "status": "completed"
    },
    "tags": []
   },
   "outputs": [],
   "source": [
    "#Importing the basic librarires for building model - classification\n",
    "\n",
    "from sklearn.model_selection import train_test_split\n",
    "\n",
    "from sklearn.metrics import accuracy_score,r2_score\n",
    "\n",
    "\n",
    "from sklearn.linear_model import LogisticRegression\n",
    "from sklearn.tree import DecisionTreeClassifier\n",
    "from sklearn.neighbors import  KNeighborsClassifier\n",
    "from sklearn.ensemble import RandomForestClassifier\n",
    "from sklearn.neural_network import  MLPClassifier\n",
    "from sklearn.svm import SVC\n",
    "from xgboost import XGBClassifier\n",
    "\n",
    "\n",
    "from sklearn.preprocessing import LabelEncoder,StandardScaler"
   ]
  },
  {
   "cell_type": "code",
   "execution_count": 17,
   "id": "1ec4462c",
   "metadata": {
    "execution": {
     "iopub.execute_input": "2022-06-14T19:03:54.480164Z",
     "iopub.status.busy": "2022-06-14T19:03:54.479776Z",
     "iopub.status.idle": "2022-06-14T19:03:54.496090Z",
     "shell.execute_reply": "2022-06-14T19:03:54.495262Z"
    },
    "papermill": {
     "duration": 0.030497,
     "end_time": "2022-06-14T19:03:54.497722",
     "exception": false,
     "start_time": "2022-06-14T19:03:54.467225",
     "status": "completed"
    },
    "tags": []
   },
   "outputs": [
    {
     "data": {
      "text/html": [
       "<div>\n",
       "<style scoped>\n",
       "    .dataframe tbody tr th:only-of-type {\n",
       "        vertical-align: middle;\n",
       "    }\n",
       "\n",
       "    .dataframe tbody tr th {\n",
       "        vertical-align: top;\n",
       "    }\n",
       "\n",
       "    .dataframe thead th {\n",
       "        text-align: right;\n",
       "    }\n",
       "</style>\n",
       "<table border=\"1\" class=\"dataframe\">\n",
       "  <thead>\n",
       "    <tr style=\"text-align: right;\">\n",
       "      <th></th>\n",
       "      <th>Gender</th>\n",
       "      <th>Age</th>\n",
       "      <th>Education Level</th>\n",
       "      <th>Institution Type</th>\n",
       "      <th>IT Student</th>\n",
       "      <th>Load-shedding</th>\n",
       "      <th>Financial Condition</th>\n",
       "      <th>Internet Type</th>\n",
       "      <th>Network Type</th>\n",
       "      <th>Class Duration</th>\n",
       "      <th>Self Lms</th>\n",
       "      <th>Device</th>\n",
       "      <th>Adaptivity Level</th>\n",
       "    </tr>\n",
       "  </thead>\n",
       "  <tbody>\n",
       "    <tr>\n",
       "      <th>0</th>\n",
       "      <td>Boy</td>\n",
       "      <td>21-25</td>\n",
       "      <td>University</td>\n",
       "      <td>Non Government</td>\n",
       "      <td>No</td>\n",
       "      <td>Low</td>\n",
       "      <td>Mid</td>\n",
       "      <td>Wifi</td>\n",
       "      <td>4G</td>\n",
       "      <td>3-6</td>\n",
       "      <td>No</td>\n",
       "      <td>Tab</td>\n",
       "      <td>Moderate</td>\n",
       "    </tr>\n",
       "    <tr>\n",
       "      <th>1</th>\n",
       "      <td>Girl</td>\n",
       "      <td>21-25</td>\n",
       "      <td>University</td>\n",
       "      <td>Non Government</td>\n",
       "      <td>No</td>\n",
       "      <td>High</td>\n",
       "      <td>Mid</td>\n",
       "      <td>Mobile Data</td>\n",
       "      <td>4G</td>\n",
       "      <td>1-3</td>\n",
       "      <td>Yes</td>\n",
       "      <td>Mobile</td>\n",
       "      <td>Moderate</td>\n",
       "    </tr>\n",
       "    <tr>\n",
       "      <th>2</th>\n",
       "      <td>Girl</td>\n",
       "      <td>16-20</td>\n",
       "      <td>College</td>\n",
       "      <td>Government</td>\n",
       "      <td>No</td>\n",
       "      <td>Low</td>\n",
       "      <td>Mid</td>\n",
       "      <td>Wifi</td>\n",
       "      <td>4G</td>\n",
       "      <td>1-3</td>\n",
       "      <td>No</td>\n",
       "      <td>Mobile</td>\n",
       "      <td>Moderate</td>\n",
       "    </tr>\n",
       "    <tr>\n",
       "      <th>3</th>\n",
       "      <td>Girl</td>\n",
       "      <td>11-15</td>\n",
       "      <td>School</td>\n",
       "      <td>Non Government</td>\n",
       "      <td>No</td>\n",
       "      <td>Low</td>\n",
       "      <td>Mid</td>\n",
       "      <td>Mobile Data</td>\n",
       "      <td>4G</td>\n",
       "      <td>1-3</td>\n",
       "      <td>No</td>\n",
       "      <td>Mobile</td>\n",
       "      <td>Moderate</td>\n",
       "    </tr>\n",
       "    <tr>\n",
       "      <th>4</th>\n",
       "      <td>Girl</td>\n",
       "      <td>16-20</td>\n",
       "      <td>School</td>\n",
       "      <td>Non Government</td>\n",
       "      <td>No</td>\n",
       "      <td>Low</td>\n",
       "      <td>Poor</td>\n",
       "      <td>Mobile Data</td>\n",
       "      <td>3G</td>\n",
       "      <td>0</td>\n",
       "      <td>No</td>\n",
       "      <td>Mobile</td>\n",
       "      <td>Low</td>\n",
       "    </tr>\n",
       "  </tbody>\n",
       "</table>\n",
       "</div>"
      ],
      "text/plain": [
       "  Gender    Age Education Level Institution Type IT Student Load-shedding  \\\n",
       "0    Boy  21-25      University   Non Government         No           Low   \n",
       "1   Girl  21-25      University   Non Government         No          High   \n",
       "2   Girl  16-20         College       Government         No           Low   \n",
       "3   Girl  11-15          School   Non Government         No           Low   \n",
       "4   Girl  16-20          School   Non Government         No           Low   \n",
       "\n",
       "  Financial Condition Internet Type Network Type Class Duration Self Lms  \\\n",
       "0                 Mid          Wifi           4G            3-6       No   \n",
       "1                 Mid   Mobile Data           4G            1-3      Yes   \n",
       "2                 Mid          Wifi           4G            1-3       No   \n",
       "3                 Mid   Mobile Data           4G            1-3       No   \n",
       "4                Poor   Mobile Data           3G              0       No   \n",
       "\n",
       "   Device Adaptivity Level  \n",
       "0     Tab         Moderate  \n",
       "1  Mobile         Moderate  \n",
       "2  Mobile         Moderate  \n",
       "3  Mobile         Moderate  \n",
       "4  Mobile              Low  "
      ]
     },
     "execution_count": 17,
     "metadata": {},
     "output_type": "execute_result"
    }
   ],
   "source": [
    "df.head()"
   ]
  },
  {
   "cell_type": "code",
   "execution_count": 18,
   "id": "25566ba6",
   "metadata": {
    "execution": {
     "iopub.execute_input": "2022-06-14T19:03:54.523049Z",
     "iopub.status.busy": "2022-06-14T19:03:54.522239Z",
     "iopub.status.idle": "2022-06-14T19:03:54.533144Z",
     "shell.execute_reply": "2022-06-14T19:03:54.532002Z"
    },
    "papermill": {
     "duration": 0.025914,
     "end_time": "2022-06-14T19:03:54.535211",
     "exception": false,
     "start_time": "2022-06-14T19:03:54.509297",
     "status": "completed"
    },
    "tags": []
   },
   "outputs": [
    {
     "name": "stdout",
     "output_type": "stream",
     "text": [
      "<class 'pandas.core.frame.DataFrame'>\n",
      "RangeIndex: 1205 entries, 0 to 1204\n",
      "Data columns (total 13 columns):\n",
      " #   Column               Non-Null Count  Dtype \n",
      "---  ------               --------------  ----- \n",
      " 0   Gender               1205 non-null   object\n",
      " 1   Age                  1205 non-null   object\n",
      " 2   Education Level      1205 non-null   object\n",
      " 3   Institution Type     1205 non-null   object\n",
      " 4   IT Student           1205 non-null   object\n",
      " 5   Load-shedding        1205 non-null   object\n",
      " 6   Financial Condition  1205 non-null   object\n",
      " 7   Internet Type        1205 non-null   object\n",
      " 8   Network Type         1205 non-null   object\n",
      " 9   Class Duration       1205 non-null   object\n",
      " 10  Self Lms             1205 non-null   object\n",
      " 11  Device               1205 non-null   object\n",
      " 12  Adaptivity Level     1205 non-null   object\n",
      "dtypes: object(13)\n",
      "memory usage: 122.5+ KB\n"
     ]
    }
   ],
   "source": [
    "df.info()"
   ]
  },
  {
   "cell_type": "markdown",
   "id": "0cbaa6ca",
   "metadata": {
    "papermill": {
     "duration": 0.010862,
     "end_time": "2022-06-14T19:03:54.557667",
     "exception": false,
     "start_time": "2022-06-14T19:03:54.546805",
     "status": "completed"
    },
    "tags": []
   },
   "source": [
    "#### We need change all data type using LabelEncode"
   ]
  },
  {
   "cell_type": "code",
   "execution_count": 19,
   "id": "75d2c182",
   "metadata": {
    "execution": {
     "iopub.execute_input": "2022-06-14T19:03:54.581840Z",
     "iopub.status.busy": "2022-06-14T19:03:54.581167Z",
     "iopub.status.idle": "2022-06-14T19:03:54.593864Z",
     "shell.execute_reply": "2022-06-14T19:03:54.593276Z"
    },
    "papermill": {
     "duration": 0.026854,
     "end_time": "2022-06-14T19:03:54.595576",
     "exception": false,
     "start_time": "2022-06-14T19:03:54.568722",
     "status": "completed"
    },
    "tags": []
   },
   "outputs": [],
   "source": [
    "# change all data type using LabelEncode\n",
    "\n",
    "data=df\n",
    "\n",
    "label_encoders = {}\n",
    "categorical_columns = data.columns  # I would recommend using columns names here if you're using pandas. If you're using numpy then stick with range(n) instead\n",
    "\n",
    "for column in categorical_columns:\n",
    "    label_encoders[column] = LabelEncoder()\n",
    "    data[column] = label_encoders[column].fit_transform(data[column])"
   ]
  },
  {
   "cell_type": "code",
   "execution_count": 20,
   "id": "34936dd9",
   "metadata": {
    "execution": {
     "iopub.execute_input": "2022-06-14T19:03:54.619642Z",
     "iopub.status.busy": "2022-06-14T19:03:54.619006Z",
     "iopub.status.idle": "2022-06-14T19:03:54.630771Z",
     "shell.execute_reply": "2022-06-14T19:03:54.630070Z"
    },
    "papermill": {
     "duration": 0.025818,
     "end_time": "2022-06-14T19:03:54.632587",
     "exception": false,
     "start_time": "2022-06-14T19:03:54.606769",
     "status": "completed"
    },
    "tags": []
   },
   "outputs": [
    {
     "data": {
      "text/html": [
       "<div>\n",
       "<style scoped>\n",
       "    .dataframe tbody tr th:only-of-type {\n",
       "        vertical-align: middle;\n",
       "    }\n",
       "\n",
       "    .dataframe tbody tr th {\n",
       "        vertical-align: top;\n",
       "    }\n",
       "\n",
       "    .dataframe thead th {\n",
       "        text-align: right;\n",
       "    }\n",
       "</style>\n",
       "<table border=\"1\" class=\"dataframe\">\n",
       "  <thead>\n",
       "    <tr style=\"text-align: right;\">\n",
       "      <th></th>\n",
       "      <th>Gender</th>\n",
       "      <th>Age</th>\n",
       "      <th>Education Level</th>\n",
       "      <th>Institution Type</th>\n",
       "      <th>IT Student</th>\n",
       "      <th>Load-shedding</th>\n",
       "      <th>Financial Condition</th>\n",
       "      <th>Internet Type</th>\n",
       "      <th>Network Type</th>\n",
       "      <th>Class Duration</th>\n",
       "      <th>Self Lms</th>\n",
       "      <th>Device</th>\n",
       "      <th>Adaptivity Level</th>\n",
       "    </tr>\n",
       "  </thead>\n",
       "  <tbody>\n",
       "    <tr>\n",
       "      <th>0</th>\n",
       "      <td>0</td>\n",
       "      <td>3</td>\n",
       "      <td>2</td>\n",
       "      <td>1</td>\n",
       "      <td>0</td>\n",
       "      <td>1</td>\n",
       "      <td>0</td>\n",
       "      <td>1</td>\n",
       "      <td>2</td>\n",
       "      <td>2</td>\n",
       "      <td>0</td>\n",
       "      <td>2</td>\n",
       "      <td>2</td>\n",
       "    </tr>\n",
       "    <tr>\n",
       "      <th>1</th>\n",
       "      <td>1</td>\n",
       "      <td>3</td>\n",
       "      <td>2</td>\n",
       "      <td>1</td>\n",
       "      <td>0</td>\n",
       "      <td>0</td>\n",
       "      <td>0</td>\n",
       "      <td>0</td>\n",
       "      <td>2</td>\n",
       "      <td>1</td>\n",
       "      <td>1</td>\n",
       "      <td>1</td>\n",
       "      <td>2</td>\n",
       "    </tr>\n",
       "    <tr>\n",
       "      <th>2</th>\n",
       "      <td>1</td>\n",
       "      <td>2</td>\n",
       "      <td>0</td>\n",
       "      <td>0</td>\n",
       "      <td>0</td>\n",
       "      <td>1</td>\n",
       "      <td>0</td>\n",
       "      <td>1</td>\n",
       "      <td>2</td>\n",
       "      <td>1</td>\n",
       "      <td>0</td>\n",
       "      <td>1</td>\n",
       "      <td>2</td>\n",
       "    </tr>\n",
       "    <tr>\n",
       "      <th>3</th>\n",
       "      <td>1</td>\n",
       "      <td>1</td>\n",
       "      <td>1</td>\n",
       "      <td>1</td>\n",
       "      <td>0</td>\n",
       "      <td>1</td>\n",
       "      <td>0</td>\n",
       "      <td>0</td>\n",
       "      <td>2</td>\n",
       "      <td>1</td>\n",
       "      <td>0</td>\n",
       "      <td>1</td>\n",
       "      <td>2</td>\n",
       "    </tr>\n",
       "    <tr>\n",
       "      <th>4</th>\n",
       "      <td>1</td>\n",
       "      <td>2</td>\n",
       "      <td>1</td>\n",
       "      <td>1</td>\n",
       "      <td>0</td>\n",
       "      <td>1</td>\n",
       "      <td>1</td>\n",
       "      <td>0</td>\n",
       "      <td>1</td>\n",
       "      <td>0</td>\n",
       "      <td>0</td>\n",
       "      <td>1</td>\n",
       "      <td>1</td>\n",
       "    </tr>\n",
       "  </tbody>\n",
       "</table>\n",
       "</div>"
      ],
      "text/plain": [
       "   Gender  Age  Education Level  Institution Type  IT Student  Load-shedding  \\\n",
       "0       0    3                2                 1           0              1   \n",
       "1       1    3                2                 1           0              0   \n",
       "2       1    2                0                 0           0              1   \n",
       "3       1    1                1                 1           0              1   \n",
       "4       1    2                1                 1           0              1   \n",
       "\n",
       "   Financial Condition  Internet Type  Network Type  Class Duration  Self Lms  \\\n",
       "0                    0              1             2               2         0   \n",
       "1                    0              0             2               1         1   \n",
       "2                    0              1             2               1         0   \n",
       "3                    0              0             2               1         0   \n",
       "4                    1              0             1               0         0   \n",
       "\n",
       "   Device  Adaptivity Level  \n",
       "0       2                 2  \n",
       "1       1                 2  \n",
       "2       1                 2  \n",
       "3       1                 2  \n",
       "4       1                 1  "
      ]
     },
     "execution_count": 20,
     "metadata": {},
     "output_type": "execute_result"
    }
   ],
   "source": [
    "data.head()"
   ]
  },
  {
   "cell_type": "code",
   "execution_count": 21,
   "id": "23a0e5cc",
   "metadata": {
    "execution": {
     "iopub.execute_input": "2022-06-14T19:03:54.657652Z",
     "iopub.status.busy": "2022-06-14T19:03:54.657036Z",
     "iopub.status.idle": "2022-06-14T19:03:54.668436Z",
     "shell.execute_reply": "2022-06-14T19:03:54.667237Z"
    },
    "papermill": {
     "duration": 0.025872,
     "end_time": "2022-06-14T19:03:54.670453",
     "exception": false,
     "start_time": "2022-06-14T19:03:54.644581",
     "status": "completed"
    },
    "tags": []
   },
   "outputs": [
    {
     "name": "stdout",
     "output_type": "stream",
     "text": [
      "X Train :  (903, 12)\n",
      "X Test  :  (302, 12)\n",
      "Y Train :  (903,)\n",
      "Y Test  :  (302,)\n"
     ]
    }
   ],
   "source": [
    "#Defined X value and y value , and split the data train\n",
    "X = data.drop(columns=\"Adaptivity Level\")           \n",
    "y = data[\"Adaptivity Level\"]    # y = quality\n",
    "\n",
    "# split the data train and test\n",
    "X_train, X_test, y_train, y_test = train_test_split(X, y, test_size=0.25, random_state=42)\n",
    "\n",
    "print(\"X Train : \", X_train.shape)\n",
    "print(\"X Test  : \", X_test.shape)\n",
    "print(\"Y Train : \", y_train.shape)\n",
    "print(\"Y Test  : \", y_test.shape)"
   ]
  },
  {
   "cell_type": "code",
   "execution_count": 22,
   "id": "ae17b20d",
   "metadata": {
    "execution": {
     "iopub.execute_input": "2022-06-14T19:03:54.696318Z",
     "iopub.status.busy": "2022-06-14T19:03:54.695339Z",
     "iopub.status.idle": "2022-06-14T19:03:54.700505Z",
     "shell.execute_reply": "2022-06-14T19:03:54.699918Z"
    },
    "papermill": {
     "duration": 0.019669,
     "end_time": "2022-06-14T19:03:54.702156",
     "exception": false,
     "start_time": "2022-06-14T19:03:54.682487",
     "status": "completed"
    },
    "tags": []
   },
   "outputs": [],
   "source": [
    "#Defined object from library classification \n",
    "\n",
    "LR = LogisticRegression()\n",
    "DTR = DecisionTreeClassifier()\n",
    "RFR = RandomForestClassifier()\n",
    "KNR = KNeighborsClassifier()\n",
    "MLP = MLPClassifier()\n",
    "XGB = XGBClassifier()\n",
    "SVC = SVC()"
   ]
  },
  {
   "cell_type": "code",
   "execution_count": 23,
   "id": "2f9be18c",
   "metadata": {
    "execution": {
     "iopub.execute_input": "2022-06-14T19:03:54.727609Z",
     "iopub.status.busy": "2022-06-14T19:03:54.727103Z",
     "iopub.status.idle": "2022-06-14T19:03:56.465170Z",
     "shell.execute_reply": "2022-06-14T19:03:56.463799Z"
    },
    "papermill": {
     "duration": 1.753207,
     "end_time": "2022-06-14T19:03:56.467192",
     "exception": false,
     "start_time": "2022-06-14T19:03:54.713985",
     "status": "completed"
    },
    "tags": []
   },
   "outputs": [
    {
     "name": "stdout",
     "output_type": "stream",
     "text": [
      "LogisticRegression() : 71.52317880794702\n",
      "DecisionTreeClassifier() : 88.0794701986755\n",
      "RandomForestClassifier() : 90.06622516556291\n",
      "KNeighborsClassifier() : 78.47682119205298\n"
     ]
    },
    {
     "name": "stderr",
     "output_type": "stream",
     "text": [
      "C:\\Users\\moham\\anaconda3\\lib\\site-packages\\sklearn\\neural_network\\_multilayer_perceptron.py:702: ConvergenceWarning: Stochastic Optimizer: Maximum iterations (200) reached and the optimization hasn't converged yet.\n",
      "  warnings.warn(\n"
     ]
    },
    {
     "name": "stdout",
     "output_type": "stream",
     "text": [
      "MLPClassifier() : 83.11258278145695\n",
      "KNeighborsClassifier() : 78.47682119205298\n",
      "XGBClassifier(base_score=0.5, booster='gbtree', callbacks=None,\n",
      "              colsample_bylevel=1, colsample_bynode=1, colsample_bytree=1,\n",
      "              early_stopping_rounds=None, enable_categorical=False,\n",
      "              eval_metric=None, gamma=0, gpu_id=-1, grow_policy='depthwise',\n",
      "              importance_type=None, interaction_constraints='',\n",
      "              learning_rate=0.300000012, max_bin=256, max_cat_to_onehot=4,\n",
      "              max_delta_step=0, max_depth=6, max_leaves=0, min_child_weight=1,\n",
      "              missing=nan, monotone_constraints='()', n_estimators=100,\n",
      "              n_jobs=0, num_parallel_tree=1, objective='multi:softprob',\n",
      "              predictor='auto', random_state=0, reg_alpha=0, ...) : 89.73509933774835\n",
      "SVC() : 73.84105960264901\n"
     ]
    }
   ],
   "source": [
    "# make for loop for classification \n",
    "\n",
    "li = [LR,DTR,RFR,KNR,MLP,KNR,XGB,SVC]\n",
    "d = {}\n",
    "for i in li:\n",
    "    i.fit(X_train,y_train)\n",
    "    ypred = i.predict(X_test)\n",
    "    print(i,\":\",accuracy_score(y_test,ypred)*100)\n",
    "    d.update({str(i):i.score(X_test,y_test)*100})"
   ]
  },
  {
   "cell_type": "markdown",
   "id": "c75ed935",
   "metadata": {
    "papermill": {
     "duration": 0.012138,
     "end_time": "2022-06-14T19:03:56.491814",
     "exception": false,
     "start_time": "2022-06-14T19:03:56.479676",
     "status": "completed"
    },
    "tags": []
   },
   "source": [
    "- The best XGBClassifier -> 91.4%\n"
   ]
  },
  {
   "cell_type": "code",
   "execution_count": 24,
   "id": "8c12eb8d",
   "metadata": {
    "execution": {
     "iopub.execute_input": "2022-06-14T19:03:56.519016Z",
     "iopub.status.busy": "2022-06-14T19:03:56.518141Z",
     "iopub.status.idle": "2022-06-14T19:03:56.806129Z",
     "shell.execute_reply": "2022-06-14T19:03:56.805238Z"
    },
    "papermill": {
     "duration": 0.304535,
     "end_time": "2022-06-14T19:03:56.808766",
     "exception": false,
     "start_time": "2022-06-14T19:03:56.504231",
     "status": "completed"
    },
    "tags": []
   },
   "outputs": [
    {
     "data": {
      "image/png": "[encoded data removed]",
      "text/plain": [
       "<Figure size 2160x432 with 1 Axes>"
      ]
     },
     "metadata": {
      "needs_background": "light"
     },
     "output_type": "display_data"
    }
   ],
   "source": [
    "# make graph about Accuracy\n",
    "\n",
    "plt.figure(figsize=(30, 6))\n",
    "plt.title(\"Algorithm vs Accuracy\")\n",
    "plt.xlabel(\"Algorithm\")\n",
    "plt.ylabel(\"Accuracy\")\n",
    "plt.plot(d.keys(),d.values(),marker='o',color='blue')\n",
    "plt.show()"
   ]
  },
  {
   "cell_type": "code",
   "execution_count": 25,
   "id": "b40834c5",
   "metadata": {},
   "outputs": [],
   "source": [
    "#find the best model\n",
    "model = RandomForestClassifier()"
   ]
  },
  {
   "cell_type": "code",
   "execution_count": 26,
   "id": "d198c752",
   "metadata": {},
   "outputs": [
    {
     "data": {
      "text/html": [
       "<style>#sk-container-id-1 {color: black;background-color: white;}#sk-container-id-1 pre{padding: 0;}#sk-container-id-1 div.sk-toggleable {background-color: white;}#sk-container-id-1 label.sk-toggleable__label {cursor: pointer;display: block;width: 100%;margin-bottom: 0;padding: 0.3em;box-sizing: border-box;text-align: center;}#sk-container-id-1 label.sk-toggleable__label-arrow:before {content: \"▸\";float: left;margin-right: 0.25em;color: #696969;}#sk-container-id-1 label.sk-toggleable__label-arrow:hover:before {color: black;}#sk-container-id-1 div.sk-estimator:hover label.sk-toggleable__label-arrow:before {color: black;}#sk-container-id-1 div.sk-toggleable__content {max-height: 0;max-width: 0;overflow: hidden;text-align: left;background-color: #f0f8ff;}#sk-container-id-1 div.sk-toggleable__content pre {margin: 0.2em;color: black;border-radius: 0.25em;background-color: #f0f8ff;}#sk-container-id-1 input.sk-toggleable__control:checked~div.sk-toggleable__content {max-height: 200px;max-width: 100%;overflow: auto;}#sk-container-id-1 input.sk-toggleable__control:checked~label.sk-toggleable__label-arrow:before {content: \"▾\";}#sk-container-id-1 div.sk-estimator input.sk-toggleable__control:checked~label.sk-toggleable__label {background-color: #d4ebff;}#sk-container-id-1 div.sk-label input.sk-toggleable__control:checked~label.sk-toggleable__label {background-color: #d4ebff;}#sk-container-id-1 input.sk-hidden--visually {border: 0;clip: rect(1px 1px 1px 1px);clip: rect(1px, 1px, 1px, 1px);height: 1px;margin: -1px;overflow: hidden;padding: 0;position: absolute;width: 1px;}#sk-container-id-1 div.sk-estimator {font-family: monospace;background-color: #f0f8ff;border: 1px dotted black;border-radius: 0.25em;box-sizing: border-box;margin-bottom: 0.5em;}#sk-container-id-1 div.sk-estimator:hover {background-color: #d4ebff;}#sk-container-id-1 div.sk-parallel-item::after {content: \"\";width: 100%;border-bottom: 1px solid gray;flex-grow: 1;}#sk-container-id-1 div.sk-label:hover label.sk-toggleable__label {background-color: #d4ebff;}#sk-container-id-1 div.sk-serial::before {content: \"\";position: absolute;border-left: 1px solid gray;box-sizing: border-box;top: 0;bottom: 0;left: 50%;z-index: 0;}#sk-container-id-1 div.sk-serial {display: flex;flex-direction: column;align-items: center;background-color: white;padding-right: 0.2em;padding-left: 0.2em;position: relative;}#sk-container-id-1 div.sk-item {position: relative;z-index: 1;}#sk-container-id-1 div.sk-parallel {display: flex;align-items: stretch;justify-content: center;background-color: white;position: relative;}#sk-container-id-1 div.sk-item::before, #sk-container-id-1 div.sk-parallel-item::before {content: \"\";position: absolute;border-left: 1px solid gray;box-sizing: border-box;top: 0;bottom: 0;left: 50%;z-index: -1;}#sk-container-id-1 div.sk-parallel-item {display: flex;flex-direction: column;z-index: 1;position: relative;background-color: white;}#sk-container-id-1 div.sk-parallel-item:first-child::after {align-self: flex-end;width: 50%;}#sk-container-id-1 div.sk-parallel-item:last-child::after {align-self: flex-start;width: 50%;}#sk-container-id-1 div.sk-parallel-item:only-child::after {width: 0;}#sk-container-id-1 div.sk-dashed-wrapped {border: 1px dashed gray;margin: 0 0.4em 0.5em 0.4em;box-sizing: border-box;padding-bottom: 0.4em;background-color: white;}#sk-container-id-1 div.sk-label label {font-family: monospace;font-weight: bold;display: inline-block;line-height: 1.2em;}#sk-container-id-1 div.sk-label-container {text-align: center;}#sk-container-id-1 div.sk-container {/* jupyter's `normalize.less` sets `[hidden] { display: none; }` but bootstrap.min.css set `[hidden] { display: none !important; }` so we also need the `!important` here to be able to override the default hidden behavior on the sphinx rendered scikit-learn.org. See: https://github.com/scikit-learn/scikit-learn/issues/21755 */display: inline-block !important;position: relative;}#sk-container-id-1 div.sk-text-repr-fallback {display: none;}</style><div id=\"sk-container-id-1\" class=\"sk-top-container\"><div class=\"sk-text-repr-fallback\"><pre>RandomForestClassifier()</pre><b>In a Jupyter environment, please rerun this cell to show the HTML representation or trust the notebook. <br />On GitHub, the HTML representation is unable to render, please try loading this page with nbviewer.org.</b></div><div class=\"sk-container\" hidden><div class=\"sk-item\"><div class=\"sk-estimator sk-toggleable\"><input class=\"sk-toggleable__control sk-hidden--visually\" id=\"sk-estimator-id-1\" type=\"checkbox\" checked><label for=\"sk-estimator-id-1\" class=\"sk-toggleable__label sk-toggleable__label-arrow\">RandomForestClassifier</label><div class=\"sk-toggleable__content\"><pre>RandomForestClassifier()</pre></div></div></div></div></div>"
      ],
      "text/plain": [
       "RandomForestClassifier()"
      ]
     },
     "execution_count": 26,
     "metadata": {},
     "output_type": "execute_result"
    }
   ],
   "source": [
    "# fit the model\n",
    "model.fit(X_train, y_train)"
   ]
  },
  {
   "cell_type": "code",
   "execution_count": 27,
   "id": "68ada8aa",
   "metadata": {},
   "outputs": [],
   "source": [
    "import pickle\n",
    "pickle.dump(model,open('df1.pkl','wb'))"
   ]
  },
  {
   "cell_type": "code",
   "execution_count": null,
   "id": "1cd2a370",
   "metadata": {},
   "outputs": [],
   "source": []
  },
  {
   "cell_type": "code",
   "execution_count": null,
   "id": "5736ea64",
   "metadata": {},
   "outputs": [],
   "source": []
  },
  {
   "cell_type": "code",
   "execution_count": null,
   "id": "692f487a",
   "metadata": {},
   "outputs": [],
   "source": []
  },
  {
   "cell_type": "code",
   "execution_count": null,
   "id": "af413100",
   "metadata": {},
   "outputs": [],
   "source": []
  },
  {
   "cell_type": "code",
   "execution_count": null,
   "id": "be743733",
   "metadata": {},
   "outputs": [],
   "source": []
  },
  {
   "cell_type": "code",
   "execution_count": null,
   "id": "bfc2123b",
   "metadata": {},
   "outputs": [],
   "source": []
  },
  {
   "cell_type": "code",
   "execution_count": null,
   "id": "b8199d3c",
   "metadata": {},
   "outputs": [],
   "source": []
  },
  {
   "cell_type": "code",
   "execution_count": null,
   "id": "abd7903a",
   "metadata": {},
   "outputs": [],
   "source": []
  },
  {
   "cell_type": "code",
   "execution_count": null,
   "id": "82b3e9e0",
   "metadata": {},
   "outputs": [],
   "source": []
  },
  {
   "cell_type": "code",
   "execution_count": null,
   "id": "4496ef44",
   "metadata": {},
   "outputs": [],
   "source": []
  }
 ],
 "metadata": {
  "kernelspec": {
   "display_name": "Python 3",
   "language": "python",
   "name": "python3"
  },
  "language_info": {
   "codemirror_mode": {
    "name": "ipython",
    "version": 3
   },
   "file_extension": ".py",
   "mimetype": "text/x-python",
   "name": "python",
   "nbconvert_exporter": "python",
   "pygments_lexer": "ipython3",
   "version": "3.8.8"
  },
  "papermill": {
   "default_parameters": {},
   "duration": 31.484745,
   "end_time": "2022-06-14T19:04:12.993231",
   "environment_variables": {},
   "exception": null,
   "input_path": "__notebook__.ipynb",
   "output_path": "__notebook__.ipynb",
   "parameters": {},
   "start_time": "2022-06-14T19:03:41.508486",
   "version": "2.3.4"
  }
 },
 "nbformat": 4,
 "nbformat_minor": 5
}
